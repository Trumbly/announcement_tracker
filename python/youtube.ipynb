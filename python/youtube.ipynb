{
 "cells": [
  {
   "cell_type": "code",
   "execution_count": 4,
   "metadata": {},
   "outputs": [
    {
     "data": {
      "text/plain": [
       "True"
      ]
     },
     "execution_count": 4,
     "metadata": {},
     "output_type": "execute_result"
    }
   ],
   "source": [
    "import os\n",
    "from dotenv import load_dotenv\n",
    "load_dotenv() #load environment variables from .env file"
   ]
  },
  {
   "cell_type": "markdown",
   "metadata": {},
   "source": [
    "# Connect to database using ORM "
   ]
  },
  {
   "cell_type": "code",
   "execution_count": 7,
   "metadata": {},
   "outputs": [],
   "source": [
    "import google_auth_oauthlib.flow\n",
    "import googleapiclient.discovery\n",
    "import googleapiclient.errors\n",
    "\n",
    "GOOGLE_API_KEY = os.environ.get(\"GOOGLE_API_KEY\")\n",
    "youtube = googleapiclient.discovery.build(serviceName='youtube', version='v3', developerKey=GOOGLE_API_KEY)"
   ]
  },
  {
   "cell_type": "code",
   "execution_count": 1,
   "metadata": {},
   "outputs": [],
   "source": [
    "from dataclasses import dataclass, asdict\n",
    "import json\n",
    "from typing import List\n",
    "from typing import Optional\n",
    "from sqlalchemy import ForeignKey\n",
    "from sqlalchemy import String, Integer, Boolean, DateTime\n",
    "from sqlalchemy.orm import DeclarativeBase\n",
    "from sqlalchemy.orm import Mapped\n",
    "from sqlalchemy.orm import mapped_column\n",
    "from sqlalchemy.orm import relationship\n",
    "from sqlalchemy import create_engine\n",
    "from sqlalchemy.orm import Session\n",
    "import datetime\n",
    "\n",
    "POSTGRE_USER = os.environ.get(\"POSTGRE_USER\")\n",
    "POSTGRE_PASSWORD = os.environ.get(\"POSTGRE_PASSWORD\")\n",
    "POSTGRE_HOST = os.environ.get(\"POSTGRE_HOST\")\n",
    "POSTGRE_PORT = os.environ.get(\"POSTGRE_PORT\")\n",
    "engine = create_engine(f'postgresql+psycopg2://{POSTGRE_USER}:{POSTGRE_PASSWORD}@{POSTGRE_HOST}:{POSTGRE_PORT}/youtube', echo=True)\n",
    "\n",
    "class Base(DeclarativeBase):\n",
    "    pass\n",
    "\n",
    "@dataclass\n",
    "class YoutubeSearch(Base): \n",
    "    __tablename__ = \"search\"\n",
    "\n",
    "    #technical id\n",
    "    #TODO how to autoincrement id?\n",
    "    id: Mapped[int] = mapped_column(primary_key=True) \n",
    "\n",
    "    #https://developers.google.com/youtube/v3/docs/search/list?hl=de\n",
    "    #input parameter\n",
    "    #mandatory input parameter\n",
    "    part: Mapped[str] = mapped_column(String(30))\n",
    "    #optionl input parameter\n",
    "    forContentOwner: Mapped[Optional[bool]] = mapped_column(Boolean)\n",
    "    forDeveloper: Mapped[Optional[bool]] = mapped_column(Boolean)\n",
    "    forMine: Mapped[Optional[bool]] = mapped_column(Boolean)\n",
    "    relatedToVideoId: Mapped[Optional[str]] = mapped_column(String(30))\n",
    "    channelId: Mapped[Optional[str]] = mapped_column(String(30))\n",
    "    channelType: Mapped[Optional[str]] = mapped_column(String(30))\n",
    "    eventType: Mapped[Optional[str]] = mapped_column(String(30))\n",
    "    location: Mapped[Optional[str]] = mapped_column(String(30))\n",
    "    locationRadius: Mapped[Optional[str]] = mapped_column(String(30))\n",
    "    maxResults: Mapped[Optional[int]] = mapped_column(Integer)\n",
    "    onBehalfOfContentOwner: Mapped[Optional[str]] = mapped_column(String(30))\n",
    "    order: Mapped[Optional[str]] = mapped_column(String(30))\n",
    "    pageToken: Mapped[Optional[str]] = mapped_column(String(30))\n",
    "    publishedAfter: Mapped[Optional[datetime.datetime]] = mapped_column(DateTime(timezone=True))\n",
    "    publishedBefore: Mapped[Optional[datetime.datetime]] = mapped_column(DateTime(timezone=True))\n",
    "    q: Mapped[Optional[str]] = mapped_column(String(30))\n",
    "    regionCode: Mapped[Optional[str]] = mapped_column(String(2))\n",
    "    relevanceLanguage: Mapped[Optional[str]] = mapped_column(String(2))\n",
    "    safeSearch: Mapped[Optional[str]] = mapped_column(String(30))\n",
    "    topicId: Mapped[Optional[str]] = mapped_column(String(30))\n",
    "    type: Mapped[Optional[str]] = mapped_column(String(30))\n",
    "    videoCaption: Mapped[Optional[str]] = mapped_column(String(30))\n",
    "    videoCategoryId: Mapped[Optional[str]] = mapped_column(String(30))\n",
    "    videoDefinition: Mapped[Optional[str]] = mapped_column(String(30))\n",
    "    videoDimension: Mapped[Optional[str]] = mapped_column(String(30))\n",
    "    videoDuration: Mapped[Optional[str]] = mapped_column(String(30))\n",
    "    videoEmbeddable: Mapped[Optional[str]] = mapped_column(String(30))\n",
    "    videoLicense: Mapped[Optional[str]] = mapped_column(String(30))\n",
    "    videoSyndicated: Mapped[Optional[str]] = mapped_column(String(30))\n",
    "    videoType: Mapped[Optional[str]] = mapped_column(String(30))\n",
    "\n",
    "    #output parameter\n",
    "    response: Mapped[Optional[List[\"YoutubeResponse\"]]] = relationship(back_populates=\"YoutubeSearch\", cascade=\"all, delete-orphan\")\n",
    "\n",
    "    def __init__(self, part, forContentOwner=None, forDeveloper=None, forMine=None, relatedToVideoId=None, channelId=None, channelType=None, eventType=None, location=None, locationRadius=None, maxResults=None, onBehalfOfContentOwner=None, order=None, pageToken=None, publishedAfter=None, publishedBefore=None, q=None, regionCode=None, relevanceLanguage=None, safeSearch=None, topicId=None, type=None, videoCaption=None, videoCategoryId=None, videoDefinition=None, videoDimension=None, videoDuration=None, videoEmbeddable=None, videoLicense=None, videoSyndicated=None,  videoType=None):\n",
    "        #TODO autoincrement id\n",
    "        self.part = part\n",
    "        self.forContentOwner = forContentOwner\n",
    "        self.forDeveloper = forDeveloper\n",
    "        self.forMine = forMine\n",
    "        self.relatedToVideoId = relatedToVideoId\n",
    "        self.channelId = channelId\n",
    "        self.channelType = channelType\n",
    "        self.eventType = eventType\n",
    "        self.location = location\n",
    "        self.locationRadius = locationRadius\n",
    "        self.maxResults = maxResults\n",
    "        self.onBehalfOfContentOwner = onBehalfOfContentOwner\n",
    "        self.order = order\n",
    "        self.pageToken = pageToken\n",
    "        self.publishedAfter = publishedAfter\n",
    "        self.publishedBefore = publishedBefore\n",
    "        self.q = q\n",
    "        self.regionCode = regionCode\n",
    "        self.relevanceLanguage = relevanceLanguage\n",
    "        self.safeSearch = safeSearch\n",
    "        self.topicId = topicId\n",
    "        self.type = type\n",
    "        self.videoCaption = videoCaption\n",
    "        self.videoCategoryId = videoCategoryId\n",
    "        self.videoDefinition = videoDefinition\n",
    "        self.videoDimension = videoDimension\n",
    "        self.videoDuration = videoDuration\n",
    "        self.videoEmbeddable = videoEmbeddable\n",
    "        self.videoLicense = videoLicense\n",
    "        self.videoSyndicated = videoSyndicated\n",
    "        self.videoType = videoType\n",
    "    \n",
    "    #https://www.youtube.com/watch?v=Fu0swCLAJ8E\n",
    "    def execute(self):\n",
    "        self_attrs = vars(self)\n",
    "        not_none_params = {k:v for k, v in self_attrs.items() if v is not None}\n",
    "        del not_none_params[\"id\"]\n",
    "        del not_none_params[\"response\"]\n",
    "        request = youtube.serach().list(**not_none_params)\n",
    "        response = request.execute()\n",
    "        #TODO parse JSON response to object \n",
    "        self.response = YoutubeResponse(**response)\n",
    "        #TODO persit query\n",
    "        self.persist()\n",
    "    \n",
    "    def persist(self):\n",
    "        session = Session(engine)\n",
    "        session.add_all(self)\n",
    "        session.commit()\n",
    "\n",
    "\n",
    "@dataclass(frozen=True, order=True)\n",
    "class YoutubeResponse(Base):\n",
    "    __tablename__ = \"response\"\n",
    "\n",
    "    #technical id\n",
    "    #TODO autoincrement\n",
    "    id: Mapped[int] = mapped_column(primary_key=True)\n",
    "\n",
    "    #https://www.youtube.com/watch?v=Fu0swCLAJ8E\n",
    "    kind: Mapped[str] = mapped_column(String(30))\n",
    "    etag: Mapped[str] = mapped_column(String(30))\n",
    "    nextPageToken: Mapped[str] = mapped_column(String(30))\n",
    "    regionCode: Mapped[str] = mapped_column(String(2))\n",
    "    pageInfo: Mapped[List[\"YoutubePageInfo\"]] = relationship(back_populates=\"YoutubeResponse\", cascade=\"all, delete-orphan\")\n",
    "\n",
    "    def __post_init__(self):\n",
    "        self.pageInfo = [YoutubePageInfo(**pageInfo) for pageInfo in self.pageInfo]\n",
    "\n",
    "@dataclass(frozen=True, order=True)\n",
    "class YoutubePageInfo(Base):\n",
    "    __tablename__ = \"page_info\"\n",
    "\n",
    "    #technical id\n",
    "    #TODO autoincrement\n",
    "    id: Mapped[int] = mapped_column(primary_key=True)\n",
    "\n",
    "    #output parameter\n",
    "    totalResults: Mapped[int] = mapped_column(Integer)\n",
    "    resultsPerPage: Mapped[int] = mapped_column(Integer)\n",
    "\n",
    "\n",
    "\n",
    "@dataclass(frozen=True, order=True)\n",
    "class YoutubeSearchResouce(Base):\n",
    "    __tablename__ = \"search_resource\"\n",
    "\n",
    "    #technical id\n",
    "    #TODO autoincrement\n",
    "    id: Mapped[int] = mapped_column(primary_key=True)\n",
    "\n"
   ]
  },
  {
   "cell_type": "markdown",
   "metadata": {},
   "source": [
    "\n",
    "# Connect to youtube API"
   ]
  },
  {
   "cell_type": "code",
   "execution_count": 15,
   "metadata": {},
   "outputs": [],
   "source": [
    "import google_auth_oauthlib.flow\n",
    "import googleapiclient.discovery\n",
    "import googleapiclient.errors\n",
    "\n",
    "GOOGLE_API_KEY = os.environ.get(\"GOOGLE_API_KEY\")\n",
    "youtube = googleapiclient.discovery.build(serviceName='youtube', version='v3', developerKey=GOOGLE_API_KEY)\n",
    "\n",
    "def youtubeSearch(q):\n",
    "    request = youtube.search().list(\n",
    "        part = \"snippet\",\n",
    "        eventType = \"completed\",\n",
    "        q = q,\n",
    "        type = \"video\"\n",
    "    )\n",
    "    response = request.execute()\n",
    "    return response"
   ]
  },
  {
   "cell_type": "markdown",
   "metadata": {},
   "source": [
    "# Check if youtube query string exists"
   ]
  },
  {
   "cell_type": "code",
   "execution_count": null,
   "metadata": {},
   "outputs": [],
   "source": [
    "import psycopg2\n",
    "POSTGRE_USER = os.environ.get(\"POSTGRE_USER\")\n",
    "POSTGRE_PASSWORD = os.environ.get(\"POSTGRE_PASSWORD\")\n",
    "POSTGRE_HOST = os.environ.get(\"POSTGRE_HOST\")\n",
    "conn = psycopg2.connect(dbname=\"youtube_search\", user=POSTGRE_USER, password=POSTGRE_PASSWORD, host=POSTGRE_HOST)\n",
    "cur = conn.cursor()"
   ]
  },
  {
   "cell_type": "markdown",
   "metadata": {},
   "source": [
    "# Execute Youtube querry"
   ]
  },
  {
   "cell_type": "code",
   "execution_count": 16,
   "metadata": {},
   "outputs": [
    {
     "name": "stdout",
     "output_type": "stream",
     "text": [
      "{'kind': 'youtube#searchListResponse', 'etag': 'swqIWhX5YPhnqhYhfIHUZGK3kuE', 'nextPageToken': 'CAUQAA', 'regionCode': 'DE', 'pageInfo': {'totalResults': 350345, 'resultsPerPage': 5}, 'items': [{'kind': 'youtube#searchResult', 'etag': 'tIFIp7Wt1NK6nBtWTaw6bNsTyfU', 'id': {'kind': 'youtube#video', 'videoId': 'MjPWVfHAEfw'}, 'snippet': {'publishedAt': '2021-11-16T05:34:34Z', 'channelId': 'UCbK6VFemFGeVlC2vm9DpYLQ', 'title': 'NEW Airport Background Ambience - Terminal,Announcement, Boarding Sound Effects', 'description': 'Did you miss travelling due COVID-19? This is Real Complete Airport Ambience Sounds Effects FOR 1 HOUR which includes: ...', 'thumbnails': {'default': {'url': 'https://i.ytimg.com/vi/MjPWVfHAEfw/default.jpg', 'width': 120, 'height': 90}, 'medium': {'url': 'https://i.ytimg.com/vi/MjPWVfHAEfw/mqdefault.jpg', 'width': 320, 'height': 180}, 'high': {'url': 'https://i.ytimg.com/vi/MjPWVfHAEfw/hqdefault.jpg', 'width': 480, 'height': 360}}, 'channelTitle': 'AMBIENCE BOOSTER', 'liveBroadcastContent': 'none', 'publishTime': '2021-11-16T05:34:34Z'}}, {'kind': 'youtube#searchResult', 'etag': '7BplSG8Bu12ALddUI7ubfpXmTcM', 'id': {'kind': 'youtube#video', 'videoId': 'VZq2jKRGhPA'}, 'snippet': {'publishedAt': '2022-06-06T03:31:27Z', 'channelId': 'UCw1PBkRb8uSjoJoYwVH3U2Q', 'title': 'The Most Complete Airport Ambience | Ambient Music for Airports | Airport Ambience ASMR | Relax', 'description': 'The Most Complete Airport Ambience | Ambient Music for Airports | Airport Ambience ASMR | Relax You are welcome to the most ...', 'thumbnails': {'default': {'url': 'https://i.ytimg.com/vi/VZq2jKRGhPA/default.jpg', 'width': 120, 'height': 90}, 'medium': {'url': 'https://i.ytimg.com/vi/VZq2jKRGhPA/mqdefault.jpg', 'width': 320, 'height': 180}, 'high': {'url': 'https://i.ytimg.com/vi/VZq2jKRGhPA/hqdefault.jpg', 'width': 480, 'height': 360}}, 'channelTitle': 'Awaken Yourself - Binaural Beats', 'liveBroadcastContent': 'none', 'publishTime': '2022-06-06T03:31:27Z'}}, {'kind': 'youtube#searchResult', 'etag': 'COxF2ep3u5egFDdTD1kN-VgmSuc', 'id': {'kind': 'youtube#video', 'videoId': 'gPF4KKQ42uI'}, 'snippet': {'publishedAt': '2021-12-03T18:39:35Z', 'channelId': 'UCHhWzI5GwAgc9p5o4_0b6pA', 'title': 'Infinite Relaxation | Airport Ambience &amp; Wind White Noise | 10 Hours', 'description': 'Join this channel to get access to perks: https://www.youtube.com/channel/UCHhWzI5GwAgc9p5o4_0b6pA/join Carefully ...', 'thumbnails': {'default': {'url': 'https://i.ytimg.com/vi/gPF4KKQ42uI/default.jpg', 'width': 120, 'height': 90}, 'medium': {'url': 'https://i.ytimg.com/vi/gPF4KKQ42uI/mqdefault.jpg', 'width': 320, 'height': 180}, 'high': {'url': 'https://i.ytimg.com/vi/gPF4KKQ42uI/hqdefault.jpg', 'width': 480, 'height': 360}}, 'channelTitle': 'OMH - Media', 'liveBroadcastContent': 'none', 'publishTime': '2021-12-03T18:39:35Z'}}, {'kind': 'youtube#searchResult', 'etag': '3-SGenwppG1PcX2zCHHaZwesmUM', 'id': {'kind': 'youtube#video', 'videoId': 'iTw8eg-11uA'}, 'snippet': {'publishedAt': '2021-05-18T12:55:09Z', 'channelId': 'UCcCJpHjdfwHkUUNyJxVwkVQ', 'title': 'My Airport Experience - Airport Ambience Sounds with Bossa Jazz &amp; White Noise', 'description': 'To me, the greatest invention of my lifetime is the laptop computer and the fact that I can be working on a book and be in an airport ...', 'thumbnails': {'default': {'url': 'https://i.ytimg.com/vi/iTw8eg-11uA/default.jpg', 'width': 120, 'height': 90}, 'medium': {'url': 'https://i.ytimg.com/vi/iTw8eg-11uA/mqdefault.jpg', 'width': 320, 'height': 180}, 'high': {'url': 'https://i.ytimg.com/vi/iTw8eg-11uA/hqdefault.jpg', 'width': 480, 'height': 360}}, 'channelTitle': 'Aba Naku', 'liveBroadcastContent': 'none', 'publishTime': '2021-05-18T12:55:09Z'}}, {'kind': 'youtube#searchResult', 'etag': 'V50cJfmmavX_fWk_iWYhbWSJyZo', 'id': {'kind': 'youtube#video', 'videoId': 'S1YzULuXv54'}, 'snippet': {'publishedAt': '2021-12-04T19:02:21Z', 'channelId': 'UCHhWzI5GwAgc9p5o4_0b6pA', 'title': 'Infinite Relaxation | Sleep Music | Airport Noise | Airport Ambience &amp; Plane White Noise | 10 Hours', 'description': 'Join this channel to get access to perks: https://www.youtube.com/channel/UCHhWzI5GwAgc9p5o4_0b6pA/join Carefully ...', 'thumbnails': {'default': {'url': 'https://i.ytimg.com/vi/S1YzULuXv54/default.jpg', 'width': 120, 'height': 90}, 'medium': {'url': 'https://i.ytimg.com/vi/S1YzULuXv54/mqdefault.jpg', 'width': 320, 'height': 180}, 'high': {'url': 'https://i.ytimg.com/vi/S1YzULuXv54/hqdefault.jpg', 'width': 480, 'height': 360}}, 'channelTitle': 'OMH - Media', 'liveBroadcastContent': 'none', 'publishTime': '2021-12-04T19:02:21Z'}}]}\n"
     ]
    }
   ],
   "source": [
    "import json\n",
    "\n",
    "response = youtubeSearch(\"airport ambient noise\")\n",
    "#response_json= json.loads(json.dumps(response))\n",
    "print(response)"
   ]
  },
  {
   "cell_type": "markdown",
   "metadata": {},
   "source": [
    "# download Video, extract audio, save audio file on Server"
   ]
  },
  {
   "cell_type": "code",
   "execution_count": null,
   "metadata": {},
   "outputs": [],
   "source": []
  }
 ],
 "metadata": {
  "kernelspec": {
   "display_name": "base",
   "language": "python",
   "name": "python3"
  },
  "language_info": {
   "codemirror_mode": {
    "name": "ipython",
    "version": 3
   },
   "file_extension": ".py",
   "mimetype": "text/x-python",
   "name": "python",
   "nbconvert_exporter": "python",
   "pygments_lexer": "ipython3",
   "version": "3.8.16"
  },
  "orig_nbformat": 4
 },
 "nbformat": 4,
 "nbformat_minor": 2
}
