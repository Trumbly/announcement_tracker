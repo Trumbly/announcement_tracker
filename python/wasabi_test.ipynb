{
 "cells": [
  {
   "cell_type": "code",
   "execution_count": 1,
   "metadata": {},
   "outputs": [
    {
     "name": "stdout",
     "output_type": "stream",
     "text": [
      "Requirement already satisfied: python-dotenv in /usr/local/lib/python3.11/dist-packages (1.0.0)\n",
      "\u001b[33mWARNING: Running pip as the 'root' user can result in broken permissions and conflicting behaviour with the system package manager. It is recommended to use a virtual environment instead: https://pip.pypa.io/warnings/venv\u001b[0m\u001b[33m\n",
      "\u001b[0mRequirement already satisfied: boto3 in /usr/local/lib/python3.11/dist-packages (1.28.49)\n",
      "Requirement already satisfied: botocore<1.32.0,>=1.31.49 in /usr/local/lib/python3.11/dist-packages (from boto3) (1.31.49)\n",
      "Requirement already satisfied: jmespath<2.0.0,>=0.7.1 in /usr/local/lib/python3.11/dist-packages (from boto3) (1.0.1)\n",
      "Requirement already satisfied: s3transfer<0.7.0,>=0.6.0 in /usr/local/lib/python3.11/dist-packages (from boto3) (0.6.2)\n",
      "Requirement already satisfied: python-dateutil<3.0.0,>=2.1 in /usr/lib/python3/dist-packages (from botocore<1.32.0,>=1.31.49->boto3) (2.8.2)\n",
      "Requirement already satisfied: urllib3<1.27,>=1.25.4 in /usr/local/lib/python3.11/dist-packages (from botocore<1.32.0,>=1.31.49->boto3) (1.26.16)\n",
      "\u001b[33mWARNING: Running pip as the 'root' user can result in broken permissions and conflicting behaviour with the system package manager. It is recommended to use a virtual environment instead: https://pip.pypa.io/warnings/venv\u001b[0m\u001b[33m\n",
      "\u001b[0mRequirement already satisfied: pymediainfo in /usr/local/lib/python3.11/dist-packages (6.0.1)\n",
      "\u001b[33mWARNING: Running pip as the 'root' user can result in broken permissions and conflicting behaviour with the system package manager. It is recommended to use a virtual environment instead: https://pip.pypa.io/warnings/venv\u001b[0m\u001b[33m\n",
      "\u001b[0m"
     ]
    }
   ],
   "source": [
    "!pip install python-dotenv --break-system-packages\n",
    "!pip install boto3 --break-system-packages\n",
    "!pip install pymediainfo --break-system-packages"
   ]
  },
  {
   "cell_type": "code",
   "execution_count": 7,
   "metadata": {},
   "outputs": [],
   "source": [
    "import os\n",
    "from dotenv import load_dotenv\n",
    "import io\n",
    "import pathlib\n",
    "import math\n",
    "from scipy.io.wavfile import write\n",
    "import numpy as np\n",
    "import boto3\n",
    "from pymediainfo import MediaInfo\n",
    "import librosa as lb"
   ]
  },
  {
   "cell_type": "code",
   "execution_count": 3,
   "metadata": {},
   "outputs": [],
   "source": [
    "aws_access_key_id = os.environ.get(\"aws_access_key_id\")\n",
    "aws_secret_access_key = os.environ.get(\"aws_secret_access_key\")\n",
    "aws_bucket_name = 'youtubedl'"
   ]
  },
  {
   "cell_type": "markdown",
   "metadata": {},
   "source": [
    "https://knowledgebase.wasabi.com/hc/en-us/articles/115002579891-How-do-I-use-AWS-SDK-for-Python-boto3-with-Wasabi\n",
    "\n",
    "The service URL (endpoint_url) depends on the storage region of the bucket:\n",
    "https://knowledgebase.wasabi.com/hc/en-us/articles/360015106031-What-are-the-service-URLs-for-Wasabi-s-different-regions-"
   ]
  },
  {
   "cell_type": "code",
   "execution_count": 4,
   "metadata": {},
   "outputs": [],
   "source": [
    "s3 = boto3.client('s3',\n",
    "                  endpoint_url='https://s3.eu-central-2.wasabisys.com',\n",
    "                  aws_access_key_id=aws_access_key_id,\n",
    "                  aws_secret_access_key=aws_secret_access_key)"
   ]
  },
  {
   "cell_type": "code",
   "execution_count": 5,
   "metadata": {},
   "outputs": [],
   "source": [
    "# return list of audio files for of given folder\n",
    "def get_audio_files(path: str, exclude_dirs: list = []):\n",
    "    filtered_files=[]\n",
    "    for root, dirs, files in os.walk(path, topdown=True):\n",
    "        if root not in exclude_dirs:\n",
    "            for file in files:\n",
    "                file_path = root + \"/\" + file\n",
    "                fileInfo = MediaInfo.parse(file_path)\n",
    "                for track in fileInfo.tracks:\n",
    "                    if track.track_type == \"Audio\":\n",
    "                        filtered_files.append(file_path)\n",
    "    return filtered_files"
   ]
  },
  {
   "cell_type": "code",
   "execution_count": 6,
   "metadata": {},
   "outputs": [],
   "source": [
    "dir = '/root/data/announcement_tracker/youtube'\n",
    "file_paths = get_audio_files(path=dir)"
   ]
  },
  {
   "cell_type": "code",
   "execution_count": 7,
   "metadata": {},
   "outputs": [],
   "source": [
    "target_sr: int = 16000\n",
    "\n",
    "def load_audio_16k_mono(file_path):\n",
    "    y, sr = lb.load(file_path)\n",
    "    # Convert to mono\n",
    "    y = lb.to_mono(y=y)\n",
    "    # set sampling rate\n",
    "    y = lb.resample(y=y, orig_sr=sr, target_sr=target_sr)\n",
    "    return y"
   ]
  },
  {
   "cell_type": "code",
   "execution_count": 21,
   "metadata": {},
   "outputs": [],
   "source": [
    "target_track_length = 2.7*60\n",
    "\n",
    "def slice_audio(y: np.array):\n",
    "    duration_total = lb.core.get_duration(y=y, sr=target_sr)\n",
    "    n_slices=round(duration_total/target_track_length)\n",
    "    n_slices= 1 if n_slices==0 else n_slices\n",
    "    slice_size= len(y)//n_slices #1 if n_slices==0 else len(y)//n_slices\n",
    "    slices = []\n",
    "    #Slicing\n",
    "    for i in np.arange(0, n_slices*slice_size, slice_size):\n",
    "        slices.append(y[i:i+slice_size-1])\n",
    "    return np.array(slices)"
   ]
  },
  {
   "cell_type": "code",
   "execution_count": 23,
   "metadata": {},
   "outputs": [
    {
     "name": "stderr",
     "output_type": "stream",
     "text": [
      "/tmp/ipykernel_500908/3554502737.py:4: UserWarning: PySoundFile failed. Trying audioread instead.\n",
      "  y, sr = lb.load(file_path)\n",
      "/usr/local/lib/python3.11/dist-packages/librosa/core/audio.py:183: FutureWarning: librosa.core.audio.__audioread_load\n",
      "\tDeprecated as of librosa version 0.10.0.\n",
      "\tIt will be removed in librosa version 1.0.\n",
      "  y, sr_native = __audioread_load(path, offset, duration, dtype)\n"
     ]
    },
    {
     "name": "stdout",
     "output_type": "stream",
     "text": [
      "/root/data/announcement_tracker/youtube/vTX-Nhs-kUo.m4a\n",
      "/vTX-Nhs-kUo/vTX-Nhs-kUo_0.wav\n",
      "/vTX-Nhs-kUo/vTX-Nhs-kUo_1.wav\n",
      "/vTX-Nhs-kUo/vTX-Nhs-kUo_2.wav\n",
      "/vTX-Nhs-kUo/vTX-Nhs-kUo_3.wav\n",
      "/vTX-Nhs-kUo/vTX-Nhs-kUo_4.wav\n",
      "/vTX-Nhs-kUo/vTX-Nhs-kUo_5.wav\n",
      "/vTX-Nhs-kUo/vTX-Nhs-kUo_6.wav\n",
      "/vTX-Nhs-kUo/vTX-Nhs-kUo_7.wav\n",
      "/vTX-Nhs-kUo/vTX-Nhs-kUo_8.wav\n",
      "/vTX-Nhs-kUo/vTX-Nhs-kUo_9.wav\n",
      "/vTX-Nhs-kUo/vTX-Nhs-kUo_10.wav\n",
      "/vTX-Nhs-kUo/vTX-Nhs-kUo_11.wav\n",
      "/vTX-Nhs-kUo/vTX-Nhs-kUo_12.wav\n",
      "/vTX-Nhs-kUo/vTX-Nhs-kUo_13.wav\n",
      "/vTX-Nhs-kUo/vTX-Nhs-kUo_14.wav\n",
      "/vTX-Nhs-kUo/vTX-Nhs-kUo_15.wav\n",
      "/vTX-Nhs-kUo/vTX-Nhs-kUo_16.wav\n",
      "/vTX-Nhs-kUo/vTX-Nhs-kUo_17.wav\n",
      "/vTX-Nhs-kUo/vTX-Nhs-kUo_18.wav\n",
      "/vTX-Nhs-kUo/vTX-Nhs-kUo_19.wav\n",
      "/vTX-Nhs-kUo/vTX-Nhs-kUo_20.wav\n",
      "/vTX-Nhs-kUo/vTX-Nhs-kUo_21.wav\n",
      "/vTX-Nhs-kUo/vTX-Nhs-kUo_22.wav\n",
      "/vTX-Nhs-kUo/vTX-Nhs-kUo_23.wav\n",
      "/vTX-Nhs-kUo/vTX-Nhs-kUo_24.wav\n",
      "/vTX-Nhs-kUo/vTX-Nhs-kUo_25.wav\n",
      "/vTX-Nhs-kUo/vTX-Nhs-kUo_26.wav\n",
      "/vTX-Nhs-kUo/vTX-Nhs-kUo_27.wav\n",
      "/vTX-Nhs-kUo/vTX-Nhs-kUo_28.wav\n",
      "/vTX-Nhs-kUo/vTX-Nhs-kUo_29.wav\n",
      "/vTX-Nhs-kUo/vTX-Nhs-kUo_30.wav\n",
      "/vTX-Nhs-kUo/vTX-Nhs-kUo_31.wav\n",
      "/vTX-Nhs-kUo/vTX-Nhs-kUo_32.wav\n",
      "/vTX-Nhs-kUo/vTX-Nhs-kUo_33.wav\n",
      "/vTX-Nhs-kUo/vTX-Nhs-kUo_34.wav\n",
      "/vTX-Nhs-kUo/vTX-Nhs-kUo_35.wav\n",
      "/vTX-Nhs-kUo/vTX-Nhs-kUo_36.wav\n",
      "/vTX-Nhs-kUo/vTX-Nhs-kUo_37.wav\n",
      "/vTX-Nhs-kUo/vTX-Nhs-kUo_38.wav\n",
      "/vTX-Nhs-kUo/vTX-Nhs-kUo_39.wav\n",
      "/vTX-Nhs-kUo/vTX-Nhs-kUo_40.wav\n",
      "/vTX-Nhs-kUo/vTX-Nhs-kUo_41.wav\n",
      "/vTX-Nhs-kUo/vTX-Nhs-kUo_42.wav\n",
      "/vTX-Nhs-kUo/vTX-Nhs-kUo_43.wav\n",
      "/vTX-Nhs-kUo/vTX-Nhs-kUo_44.wav\n",
      "/vTX-Nhs-kUo/vTX-Nhs-kUo_45.wav\n",
      "/vTX-Nhs-kUo/vTX-Nhs-kUo_46.wav\n",
      "/vTX-Nhs-kUo/vTX-Nhs-kUo_47.wav\n",
      "/vTX-Nhs-kUo/vTX-Nhs-kUo_48.wav\n",
      "/vTX-Nhs-kUo/vTX-Nhs-kUo_49.wav\n",
      "/vTX-Nhs-kUo/vTX-Nhs-kUo_50.wav\n",
      "/vTX-Nhs-kUo/vTX-Nhs-kUo_51.wav\n"
     ]
    },
    {
     "name": "stderr",
     "output_type": "stream",
     "text": [
      "/tmp/ipykernel_500908/3554502737.py:4: UserWarning: PySoundFile failed. Trying audioread instead.\n",
      "  y, sr = lb.load(file_path)\n",
      "/usr/local/lib/python3.11/dist-packages/librosa/core/audio.py:183: FutureWarning: librosa.core.audio.__audioread_load\n",
      "\tDeprecated as of librosa version 0.10.0.\n",
      "\tIt will be removed in librosa version 1.0.\n",
      "  y, sr_native = __audioread_load(path, offset, duration, dtype)\n"
     ]
    },
    {
     "name": "stdout",
     "output_type": "stream",
     "text": [
      "/root/data/announcement_tracker/youtube/cZa7jamQSuM.m4a\n",
      "/cZa7jamQSuM/cZa7jamQSuM_0.wav\n",
      "/cZa7jamQSuM/cZa7jamQSuM_1.wav\n",
      "/cZa7jamQSuM/cZa7jamQSuM_2.wav\n",
      "/cZa7jamQSuM/cZa7jamQSuM_3.wav\n",
      "/cZa7jamQSuM/cZa7jamQSuM_4.wav\n",
      "/cZa7jamQSuM/cZa7jamQSuM_5.wav\n",
      "/cZa7jamQSuM/cZa7jamQSuM_6.wav\n",
      "/cZa7jamQSuM/cZa7jamQSuM_7.wav\n",
      "/cZa7jamQSuM/cZa7jamQSuM_8.wav\n",
      "/cZa7jamQSuM/cZa7jamQSuM_9.wav\n",
      "/cZa7jamQSuM/cZa7jamQSuM_10.wav\n"
     ]
    },
    {
     "name": "stderr",
     "output_type": "stream",
     "text": [
      "/tmp/ipykernel_500908/3554502737.py:4: UserWarning: PySoundFile failed. Trying audioread instead.\n",
      "  y, sr = lb.load(file_path)\n",
      "/usr/local/lib/python3.11/dist-packages/librosa/core/audio.py:183: FutureWarning: librosa.core.audio.__audioread_load\n",
      "\tDeprecated as of librosa version 0.10.0.\n",
      "\tIt will be removed in librosa version 1.0.\n",
      "  y, sr_native = __audioread_load(path, offset, duration, dtype)\n"
     ]
    },
    {
     "name": "stdout",
     "output_type": "stream",
     "text": [
      "/root/data/announcement_tracker/youtube/8trgESN1Eks.m4a\n",
      "/8trgESN1Eks/8trgESN1Eks_0.wav\n",
      "/8trgESN1Eks/8trgESN1Eks_1.wav\n"
     ]
    },
    {
     "name": "stderr",
     "output_type": "stream",
     "text": [
      "/tmp/ipykernel_500908/3554502737.py:4: UserWarning: PySoundFile failed. Trying audioread instead.\n",
      "  y, sr = lb.load(file_path)\n",
      "/usr/local/lib/python3.11/dist-packages/librosa/core/audio.py:183: FutureWarning: librosa.core.audio.__audioread_load\n",
      "\tDeprecated as of librosa version 0.10.0.\n",
      "\tIt will be removed in librosa version 1.0.\n",
      "  y, sr_native = __audioread_load(path, offset, duration, dtype)\n"
     ]
    },
    {
     "name": "stdout",
     "output_type": "stream",
     "text": [
      "/root/data/announcement_tracker/youtube/CSqIHhbfprI.m4a\n",
      "/CSqIHhbfprI/CSqIHhbfprI_0.wav\n"
     ]
    },
    {
     "name": "stderr",
     "output_type": "stream",
     "text": [
      "/tmp/ipykernel_500908/3554502737.py:4: UserWarning: PySoundFile failed. Trying audioread instead.\n",
      "  y, sr = lb.load(file_path)\n",
      "/usr/local/lib/python3.11/dist-packages/librosa/core/audio.py:183: FutureWarning: librosa.core.audio.__audioread_load\n",
      "\tDeprecated as of librosa version 0.10.0.\n",
      "\tIt will be removed in librosa version 1.0.\n",
      "  y, sr_native = __audioread_load(path, offset, duration, dtype)\n"
     ]
    },
    {
     "name": "stdout",
     "output_type": "stream",
     "text": [
      "/root/data/announcement_tracker/youtube/43qVyKgvpoo.m4a\n",
      "/43qVyKgvpoo/43qVyKgvpoo_0.wav\n",
      "/43qVyKgvpoo/43qVyKgvpoo_1.wav\n",
      "/43qVyKgvpoo/43qVyKgvpoo_2.wav\n",
      "/43qVyKgvpoo/43qVyKgvpoo_3.wav\n",
      "/43qVyKgvpoo/43qVyKgvpoo_4.wav\n",
      "/43qVyKgvpoo/43qVyKgvpoo_5.wav\n",
      "/43qVyKgvpoo/43qVyKgvpoo_6.wav\n",
      "/43qVyKgvpoo/43qVyKgvpoo_7.wav\n",
      "/43qVyKgvpoo/43qVyKgvpoo_8.wav\n",
      "/43qVyKgvpoo/43qVyKgvpoo_9.wav\n",
      "/43qVyKgvpoo/43qVyKgvpoo_10.wav\n",
      "/43qVyKgvpoo/43qVyKgvpoo_11.wav\n",
      "/43qVyKgvpoo/43qVyKgvpoo_12.wav\n",
      "/43qVyKgvpoo/43qVyKgvpoo_13.wav\n",
      "/43qVyKgvpoo/43qVyKgvpoo_14.wav\n",
      "/43qVyKgvpoo/43qVyKgvpoo_15.wav\n",
      "/43qVyKgvpoo/43qVyKgvpoo_16.wav\n",
      "/43qVyKgvpoo/43qVyKgvpoo_17.wav\n",
      "/43qVyKgvpoo/43qVyKgvpoo_18.wav\n",
      "/43qVyKgvpoo/43qVyKgvpoo_19.wav\n",
      "/43qVyKgvpoo/43qVyKgvpoo_20.wav\n",
      "/43qVyKgvpoo/43qVyKgvpoo_21.wav\n",
      "/43qVyKgvpoo/43qVyKgvpoo_22.wav\n",
      "/43qVyKgvpoo/43qVyKgvpoo_23.wav\n",
      "/43qVyKgvpoo/43qVyKgvpoo_24.wav\n",
      "/43qVyKgvpoo/43qVyKgvpoo_25.wav\n"
     ]
    },
    {
     "name": "stderr",
     "output_type": "stream",
     "text": [
      "/tmp/ipykernel_500908/3554502737.py:4: UserWarning: PySoundFile failed. Trying audioread instead.\n",
      "  y, sr = lb.load(file_path)\n",
      "/usr/local/lib/python3.11/dist-packages/librosa/core/audio.py:183: FutureWarning: librosa.core.audio.__audioread_load\n",
      "\tDeprecated as of librosa version 0.10.0.\n",
      "\tIt will be removed in librosa version 1.0.\n",
      "  y, sr_native = __audioread_load(path, offset, duration, dtype)\n"
     ]
    },
    {
     "name": "stdout",
     "output_type": "stream",
     "text": [
      "/root/data/announcement_tracker/youtube/FGrwZ57awhg.m4a\n",
      "/FGrwZ57awhg/FGrwZ57awhg_0.wav\n",
      "/FGrwZ57awhg/FGrwZ57awhg_1.wav\n",
      "/FGrwZ57awhg/FGrwZ57awhg_2.wav\n",
      "/FGrwZ57awhg/FGrwZ57awhg_3.wav\n",
      "/FGrwZ57awhg/FGrwZ57awhg_4.wav\n",
      "/FGrwZ57awhg/FGrwZ57awhg_5.wav\n",
      "/FGrwZ57awhg/FGrwZ57awhg_6.wav\n",
      "/FGrwZ57awhg/FGrwZ57awhg_7.wav\n",
      "/FGrwZ57awhg/FGrwZ57awhg_8.wav\n",
      "/FGrwZ57awhg/FGrwZ57awhg_9.wav\n",
      "/FGrwZ57awhg/FGrwZ57awhg_10.wav\n",
      "/FGrwZ57awhg/FGrwZ57awhg_11.wav\n",
      "/FGrwZ57awhg/FGrwZ57awhg_12.wav\n",
      "/FGrwZ57awhg/FGrwZ57awhg_13.wav\n",
      "/FGrwZ57awhg/FGrwZ57awhg_14.wav\n",
      "/FGrwZ57awhg/FGrwZ57awhg_15.wav\n",
      "/FGrwZ57awhg/FGrwZ57awhg_16.wav\n",
      "/FGrwZ57awhg/FGrwZ57awhg_17.wav\n",
      "/FGrwZ57awhg/FGrwZ57awhg_18.wav\n",
      "/FGrwZ57awhg/FGrwZ57awhg_19.wav\n",
      "/FGrwZ57awhg/FGrwZ57awhg_20.wav\n",
      "/FGrwZ57awhg/FGrwZ57awhg_21.wav\n",
      "/FGrwZ57awhg/FGrwZ57awhg_22.wav\n"
     ]
    },
    {
     "name": "stderr",
     "output_type": "stream",
     "text": [
      "/tmp/ipykernel_500908/3554502737.py:4: UserWarning: PySoundFile failed. Trying audioread instead.\n",
      "  y, sr = lb.load(file_path)\n",
      "/usr/local/lib/python3.11/dist-packages/librosa/core/audio.py:183: FutureWarning: librosa.core.audio.__audioread_load\n",
      "\tDeprecated as of librosa version 0.10.0.\n",
      "\tIt will be removed in librosa version 1.0.\n",
      "  y, sr_native = __audioread_load(path, offset, duration, dtype)\n"
     ]
    },
    {
     "name": "stdout",
     "output_type": "stream",
     "text": [
      "/root/data/announcement_tracker/youtube/dmYqgKtRmf4.m4a\n",
      "/dmYqgKtRmf4/dmYqgKtRmf4_0.wav\n",
      "/dmYqgKtRmf4/dmYqgKtRmf4_1.wav\n",
      "/dmYqgKtRmf4/dmYqgKtRmf4_2.wav\n",
      "/dmYqgKtRmf4/dmYqgKtRmf4_3.wav\n",
      "/dmYqgKtRmf4/dmYqgKtRmf4_4.wav\n",
      "/dmYqgKtRmf4/dmYqgKtRmf4_5.wav\n",
      "/dmYqgKtRmf4/dmYqgKtRmf4_6.wav\n",
      "/dmYqgKtRmf4/dmYqgKtRmf4_7.wav\n",
      "/dmYqgKtRmf4/dmYqgKtRmf4_8.wav\n"
     ]
    },
    {
     "name": "stderr",
     "output_type": "stream",
     "text": [
      "/tmp/ipykernel_500908/3554502737.py:4: UserWarning: PySoundFile failed. Trying audioread instead.\n",
      "  y, sr = lb.load(file_path)\n",
      "/usr/local/lib/python3.11/dist-packages/librosa/core/audio.py:183: FutureWarning: librosa.core.audio.__audioread_load\n",
      "\tDeprecated as of librosa version 0.10.0.\n",
      "\tIt will be removed in librosa version 1.0.\n",
      "  y, sr_native = __audioread_load(path, offset, duration, dtype)\n"
     ]
    },
    {
     "name": "stdout",
     "output_type": "stream",
     "text": [
      "/root/data/announcement_tracker/youtube/3MG_Pg4s5M4.m4a\n",
      "/3MG_Pg4s5M4/3MG_Pg4s5M4_0.wav\n",
      "/3MG_Pg4s5M4/3MG_Pg4s5M4_1.wav\n",
      "/3MG_Pg4s5M4/3MG_Pg4s5M4_2.wav\n",
      "/3MG_Pg4s5M4/3MG_Pg4s5M4_3.wav\n"
     ]
    },
    {
     "name": "stderr",
     "output_type": "stream",
     "text": [
      "/tmp/ipykernel_500908/3554502737.py:4: UserWarning: PySoundFile failed. Trying audioread instead.\n",
      "  y, sr = lb.load(file_path)\n",
      "/usr/local/lib/python3.11/dist-packages/librosa/core/audio.py:183: FutureWarning: librosa.core.audio.__audioread_load\n",
      "\tDeprecated as of librosa version 0.10.0.\n",
      "\tIt will be removed in librosa version 1.0.\n",
      "  y, sr_native = __audioread_load(path, offset, duration, dtype)\n"
     ]
    },
    {
     "name": "stdout",
     "output_type": "stream",
     "text": [
      "/root/data/announcement_tracker/youtube/SpIU7Y_-oBU.m4a\n",
      "/SpIU7Y_-oBU/SpIU7Y_-oBU_0.wav\n",
      "/SpIU7Y_-oBU/SpIU7Y_-oBU_1.wav\n",
      "/SpIU7Y_-oBU/SpIU7Y_-oBU_2.wav\n",
      "/SpIU7Y_-oBU/SpIU7Y_-oBU_3.wav\n"
     ]
    },
    {
     "name": "stderr",
     "output_type": "stream",
     "text": [
      "/tmp/ipykernel_500908/3554502737.py:4: UserWarning: PySoundFile failed. Trying audioread instead.\n",
      "  y, sr = lb.load(file_path)\n",
      "/usr/local/lib/python3.11/dist-packages/librosa/core/audio.py:183: FutureWarning: librosa.core.audio.__audioread_load\n",
      "\tDeprecated as of librosa version 0.10.0.\n",
      "\tIt will be removed in librosa version 1.0.\n",
      "  y, sr_native = __audioread_load(path, offset, duration, dtype)\n"
     ]
    },
    {
     "name": "stdout",
     "output_type": "stream",
     "text": [
      "/root/data/announcement_tracker/youtube/8shU0kvK4vo.m4a\n",
      "/8shU0kvK4vo/8shU0kvK4vo_0.wav\n",
      "/8shU0kvK4vo/8shU0kvK4vo_1.wav\n",
      "/8shU0kvK4vo/8shU0kvK4vo_2.wav\n"
     ]
    },
    {
     "name": "stderr",
     "output_type": "stream",
     "text": [
      "/tmp/ipykernel_500908/3554502737.py:4: UserWarning: PySoundFile failed. Trying audioread instead.\n",
      "  y, sr = lb.load(file_path)\n",
      "/usr/local/lib/python3.11/dist-packages/librosa/core/audio.py:183: FutureWarning: librosa.core.audio.__audioread_load\n",
      "\tDeprecated as of librosa version 0.10.0.\n",
      "\tIt will be removed in librosa version 1.0.\n",
      "  y, sr_native = __audioread_load(path, offset, duration, dtype)\n"
     ]
    },
    {
     "name": "stdout",
     "output_type": "stream",
     "text": [
      "/root/data/announcement_tracker/youtube/MjPWVfHAEfw.m4a\n",
      "/MjPWVfHAEfw/MjPWVfHAEfw_0.wav\n",
      "/MjPWVfHAEfw/MjPWVfHAEfw_1.wav\n",
      "/MjPWVfHAEfw/MjPWVfHAEfw_2.wav\n",
      "/MjPWVfHAEfw/MjPWVfHAEfw_3.wav\n",
      "/MjPWVfHAEfw/MjPWVfHAEfw_4.wav\n",
      "/MjPWVfHAEfw/MjPWVfHAEfw_5.wav\n",
      "/MjPWVfHAEfw/MjPWVfHAEfw_6.wav\n",
      "/MjPWVfHAEfw/MjPWVfHAEfw_7.wav\n",
      "/MjPWVfHAEfw/MjPWVfHAEfw_8.wav\n",
      "/MjPWVfHAEfw/MjPWVfHAEfw_9.wav\n",
      "/MjPWVfHAEfw/MjPWVfHAEfw_10.wav\n",
      "/MjPWVfHAEfw/MjPWVfHAEfw_11.wav\n",
      "/MjPWVfHAEfw/MjPWVfHAEfw_12.wav\n",
      "/MjPWVfHAEfw/MjPWVfHAEfw_13.wav\n",
      "/MjPWVfHAEfw/MjPWVfHAEfw_14.wav\n",
      "/MjPWVfHAEfw/MjPWVfHAEfw_15.wav\n",
      "/MjPWVfHAEfw/MjPWVfHAEfw_16.wav\n",
      "/MjPWVfHAEfw/MjPWVfHAEfw_17.wav\n",
      "/MjPWVfHAEfw/MjPWVfHAEfw_18.wav\n",
      "/MjPWVfHAEfw/MjPWVfHAEfw_19.wav\n",
      "/MjPWVfHAEfw/MjPWVfHAEfw_20.wav\n",
      "/MjPWVfHAEfw/MjPWVfHAEfw_21.wav\n",
      "/MjPWVfHAEfw/MjPWVfHAEfw_22.wav\n",
      "/MjPWVfHAEfw/MjPWVfHAEfw_23.wav\n",
      "/MjPWVfHAEfw/MjPWVfHAEfw_24.wav\n",
      "/MjPWVfHAEfw/MjPWVfHAEfw_25.wav\n",
      "/MjPWVfHAEfw/MjPWVfHAEfw_26.wav\n",
      "/MjPWVfHAEfw/MjPWVfHAEfw_27.wav\n",
      "/MjPWVfHAEfw/MjPWVfHAEfw_28.wav\n",
      "/MjPWVfHAEfw/MjPWVfHAEfw_29.wav\n",
      "/MjPWVfHAEfw/MjPWVfHAEfw_30.wav\n",
      "/MjPWVfHAEfw/MjPWVfHAEfw_31.wav\n",
      "/MjPWVfHAEfw/MjPWVfHAEfw_32.wav\n",
      "/MjPWVfHAEfw/MjPWVfHAEfw_33.wav\n",
      "/MjPWVfHAEfw/MjPWVfHAEfw_34.wav\n",
      "/MjPWVfHAEfw/MjPWVfHAEfw_35.wav\n",
      "/MjPWVfHAEfw/MjPWVfHAEfw_36.wav\n",
      "/MjPWVfHAEfw/MjPWVfHAEfw_37.wav\n",
      "/MjPWVfHAEfw/MjPWVfHAEfw_38.wav\n",
      "/MjPWVfHAEfw/MjPWVfHAEfw_39.wav\n",
      "/MjPWVfHAEfw/MjPWVfHAEfw_40.wav\n",
      "/MjPWVfHAEfw/MjPWVfHAEfw_41.wav\n",
      "/MjPWVfHAEfw/MjPWVfHAEfw_42.wav\n",
      "/MjPWVfHAEfw/MjPWVfHAEfw_43.wav\n",
      "/MjPWVfHAEfw/MjPWVfHAEfw_44.wav\n",
      "/MjPWVfHAEfw/MjPWVfHAEfw_45.wav\n",
      "/MjPWVfHAEfw/MjPWVfHAEfw_46.wav\n",
      "/MjPWVfHAEfw/MjPWVfHAEfw_47.wav\n",
      "/MjPWVfHAEfw/MjPWVfHAEfw_48.wav\n",
      "/MjPWVfHAEfw/MjPWVfHAEfw_49.wav\n",
      "/MjPWVfHAEfw/MjPWVfHAEfw_50.wav\n",
      "/MjPWVfHAEfw/MjPWVfHAEfw_51.wav\n",
      "/MjPWVfHAEfw/MjPWVfHAEfw_52.wav\n",
      "/MjPWVfHAEfw/MjPWVfHAEfw_53.wav\n",
      "/MjPWVfHAEfw/MjPWVfHAEfw_54.wav\n",
      "/MjPWVfHAEfw/MjPWVfHAEfw_55.wav\n",
      "/MjPWVfHAEfw/MjPWVfHAEfw_56.wav\n",
      "/MjPWVfHAEfw/MjPWVfHAEfw_57.wav\n",
      "/MjPWVfHAEfw/MjPWVfHAEfw_58.wav\n",
      "/MjPWVfHAEfw/MjPWVfHAEfw_59.wav\n",
      "/MjPWVfHAEfw/MjPWVfHAEfw_60.wav\n",
      "/MjPWVfHAEfw/MjPWVfHAEfw_61.wav\n",
      "/MjPWVfHAEfw/MjPWVfHAEfw_62.wav\n",
      "/MjPWVfHAEfw/MjPWVfHAEfw_63.wav\n",
      "/MjPWVfHAEfw/MjPWVfHAEfw_64.wav\n",
      "/MjPWVfHAEfw/MjPWVfHAEfw_65.wav\n",
      "/MjPWVfHAEfw/MjPWVfHAEfw_66.wav\n",
      "/MjPWVfHAEfw/MjPWVfHAEfw_67.wav\n",
      "/MjPWVfHAEfw/MjPWVfHAEfw_68.wav\n",
      "/MjPWVfHAEfw/MjPWVfHAEfw_69.wav\n",
      "/MjPWVfHAEfw/MjPWVfHAEfw_70.wav\n",
      "/MjPWVfHAEfw/MjPWVfHAEfw_71.wav\n",
      "/MjPWVfHAEfw/MjPWVfHAEfw_72.wav\n",
      "/MjPWVfHAEfw/MjPWVfHAEfw_73.wav\n",
      "/MjPWVfHAEfw/MjPWVfHAEfw_74.wav\n",
      "/MjPWVfHAEfw/MjPWVfHAEfw_75.wav\n",
      "/MjPWVfHAEfw/MjPWVfHAEfw_76.wav\n",
      "/MjPWVfHAEfw/MjPWVfHAEfw_77.wav\n",
      "/MjPWVfHAEfw/MjPWVfHAEfw_78.wav\n",
      "/MjPWVfHAEfw/MjPWVfHAEfw_79.wav\n",
      "/MjPWVfHAEfw/MjPWVfHAEfw_80.wav\n",
      "/MjPWVfHAEfw/MjPWVfHAEfw_81.wav\n",
      "/MjPWVfHAEfw/MjPWVfHAEfw_82.wav\n",
      "/MjPWVfHAEfw/MjPWVfHAEfw_83.wav\n",
      "/MjPWVfHAEfw/MjPWVfHAEfw_84.wav\n",
      "/MjPWVfHAEfw/MjPWVfHAEfw_85.wav\n"
     ]
    },
    {
     "name": "stderr",
     "output_type": "stream",
     "text": [
      "/tmp/ipykernel_500908/3554502737.py:4: UserWarning: PySoundFile failed. Trying audioread instead.\n",
      "  y, sr = lb.load(file_path)\n",
      "/usr/local/lib/python3.11/dist-packages/librosa/core/audio.py:183: FutureWarning: librosa.core.audio.__audioread_load\n",
      "\tDeprecated as of librosa version 0.10.0.\n",
      "\tIt will be removed in librosa version 1.0.\n",
      "  y, sr_native = __audioread_load(path, offset, duration, dtype)\n"
     ]
    },
    {
     "name": "stdout",
     "output_type": "stream",
     "text": [
      "/root/data/announcement_tracker/youtube/KvBCzbQLpsk.m4a\n",
      "/KvBCzbQLpsk/KvBCzbQLpsk_0.wav\n"
     ]
    },
    {
     "name": "stderr",
     "output_type": "stream",
     "text": [
      "/tmp/ipykernel_500908/3554502737.py:4: UserWarning: PySoundFile failed. Trying audioread instead.\n",
      "  y, sr = lb.load(file_path)\n",
      "/usr/local/lib/python3.11/dist-packages/librosa/core/audio.py:183: FutureWarning: librosa.core.audio.__audioread_load\n",
      "\tDeprecated as of librosa version 0.10.0.\n",
      "\tIt will be removed in librosa version 1.0.\n",
      "  y, sr_native = __audioread_load(path, offset, duration, dtype)\n"
     ]
    },
    {
     "name": "stdout",
     "output_type": "stream",
     "text": [
      "/root/data/announcement_tracker/youtube/FTx2CskDtUU.m4a\n",
      "/FTx2CskDtUU/FTx2CskDtUU_0.wav\n",
      "/FTx2CskDtUU/FTx2CskDtUU_1.wav\n",
      "/FTx2CskDtUU/FTx2CskDtUU_2.wav\n",
      "/FTx2CskDtUU/FTx2CskDtUU_3.wav\n"
     ]
    },
    {
     "name": "stderr",
     "output_type": "stream",
     "text": [
      "/tmp/ipykernel_500908/3554502737.py:4: UserWarning: PySoundFile failed. Trying audioread instead.\n",
      "  y, sr = lb.load(file_path)\n",
      "/usr/local/lib/python3.11/dist-packages/librosa/core/audio.py:183: FutureWarning: librosa.core.audio.__audioread_load\n",
      "\tDeprecated as of librosa version 0.10.0.\n",
      "\tIt will be removed in librosa version 1.0.\n",
      "  y, sr_native = __audioread_load(path, offset, duration, dtype)\n"
     ]
    },
    {
     "name": "stdout",
     "output_type": "stream",
     "text": [
      "/root/data/announcement_tracker/youtube/KJ7ZLeWxo2A.m4a\n",
      "/KJ7ZLeWxo2A/KJ7ZLeWxo2A_0.wav\n",
      "/KJ7ZLeWxo2A/KJ7ZLeWxo2A_1.wav\n",
      "/KJ7ZLeWxo2A/KJ7ZLeWxo2A_2.wav\n",
      "/KJ7ZLeWxo2A/KJ7ZLeWxo2A_3.wav\n",
      "/KJ7ZLeWxo2A/KJ7ZLeWxo2A_4.wav\n",
      "/KJ7ZLeWxo2A/KJ7ZLeWxo2A_5.wav\n",
      "/KJ7ZLeWxo2A/KJ7ZLeWxo2A_6.wav\n",
      "/KJ7ZLeWxo2A/KJ7ZLeWxo2A_7.wav\n",
      "/KJ7ZLeWxo2A/KJ7ZLeWxo2A_8.wav\n",
      "/KJ7ZLeWxo2A/KJ7ZLeWxo2A_9.wav\n",
      "/KJ7ZLeWxo2A/KJ7ZLeWxo2A_10.wav\n",
      "/KJ7ZLeWxo2A/KJ7ZLeWxo2A_11.wav\n",
      "/KJ7ZLeWxo2A/KJ7ZLeWxo2A_12.wav\n",
      "/KJ7ZLeWxo2A/KJ7ZLeWxo2A_13.wav\n"
     ]
    },
    {
     "name": "stderr",
     "output_type": "stream",
     "text": [
      "/tmp/ipykernel_500908/3554502737.py:4: UserWarning: PySoundFile failed. Trying audioread instead.\n",
      "  y, sr = lb.load(file_path)\n",
      "/usr/local/lib/python3.11/dist-packages/librosa/core/audio.py:183: FutureWarning: librosa.core.audio.__audioread_load\n",
      "\tDeprecated as of librosa version 0.10.0.\n",
      "\tIt will be removed in librosa version 1.0.\n",
      "  y, sr_native = __audioread_load(path, offset, duration, dtype)\n"
     ]
    },
    {
     "name": "stdout",
     "output_type": "stream",
     "text": [
      "/root/data/announcement_tracker/youtube/TaCmWOSyNPA.m4a\n",
      "/TaCmWOSyNPA/TaCmWOSyNPA_0.wav\n"
     ]
    },
    {
     "name": "stderr",
     "output_type": "stream",
     "text": [
      "/tmp/ipykernel_500908/3554502737.py:4: UserWarning: PySoundFile failed. Trying audioread instead.\n",
      "  y, sr = lb.load(file_path)\n",
      "/usr/local/lib/python3.11/dist-packages/librosa/core/audio.py:183: FutureWarning: librosa.core.audio.__audioread_load\n",
      "\tDeprecated as of librosa version 0.10.0.\n",
      "\tIt will be removed in librosa version 1.0.\n",
      "  y, sr_native = __audioread_load(path, offset, duration, dtype)\n"
     ]
    },
    {
     "name": "stdout",
     "output_type": "stream",
     "text": [
      "/root/data/announcement_tracker/youtube/6KSGbc6dm40.m4a\n",
      "/6KSGbc6dm40/6KSGbc6dm40_0.wav\n",
      "/6KSGbc6dm40/6KSGbc6dm40_1.wav\n",
      "/6KSGbc6dm40/6KSGbc6dm40_2.wav\n",
      "/6KSGbc6dm40/6KSGbc6dm40_3.wav\n",
      "/6KSGbc6dm40/6KSGbc6dm40_4.wav\n",
      "/6KSGbc6dm40/6KSGbc6dm40_5.wav\n",
      "/6KSGbc6dm40/6KSGbc6dm40_6.wav\n",
      "/6KSGbc6dm40/6KSGbc6dm40_7.wav\n",
      "/6KSGbc6dm40/6KSGbc6dm40_8.wav\n",
      "/6KSGbc6dm40/6KSGbc6dm40_9.wav\n",
      "/6KSGbc6dm40/6KSGbc6dm40_10.wav\n",
      "/6KSGbc6dm40/6KSGbc6dm40_11.wav\n",
      "/6KSGbc6dm40/6KSGbc6dm40_12.wav\n",
      "/6KSGbc6dm40/6KSGbc6dm40_13.wav\n",
      "/6KSGbc6dm40/6KSGbc6dm40_14.wav\n",
      "/6KSGbc6dm40/6KSGbc6dm40_15.wav\n",
      "/6KSGbc6dm40/6KSGbc6dm40_16.wav\n",
      "/6KSGbc6dm40/6KSGbc6dm40_17.wav\n",
      "/6KSGbc6dm40/6KSGbc6dm40_18.wav\n",
      "/6KSGbc6dm40/6KSGbc6dm40_19.wav\n",
      "/6KSGbc6dm40/6KSGbc6dm40_20.wav\n",
      "/6KSGbc6dm40/6KSGbc6dm40_21.wav\n"
     ]
    },
    {
     "name": "stderr",
     "output_type": "stream",
     "text": [
      "/tmp/ipykernel_500908/3554502737.py:4: UserWarning: PySoundFile failed. Trying audioread instead.\n",
      "  y, sr = lb.load(file_path)\n",
      "/usr/local/lib/python3.11/dist-packages/librosa/core/audio.py:183: FutureWarning: librosa.core.audio.__audioread_load\n",
      "\tDeprecated as of librosa version 0.10.0.\n",
      "\tIt will be removed in librosa version 1.0.\n",
      "  y, sr_native = __audioread_load(path, offset, duration, dtype)\n"
     ]
    },
    {
     "name": "stdout",
     "output_type": "stream",
     "text": [
      "/root/data/announcement_tracker/youtube/cirY2N2eu2k.m4a\n",
      "/cirY2N2eu2k/cirY2N2eu2k_0.wav\n",
      "/cirY2N2eu2k/cirY2N2eu2k_1.wav\n",
      "/cirY2N2eu2k/cirY2N2eu2k_2.wav\n",
      "/cirY2N2eu2k/cirY2N2eu2k_3.wav\n",
      "/cirY2N2eu2k/cirY2N2eu2k_4.wav\n",
      "/cirY2N2eu2k/cirY2N2eu2k_5.wav\n",
      "/cirY2N2eu2k/cirY2N2eu2k_6.wav\n",
      "/cirY2N2eu2k/cirY2N2eu2k_7.wav\n",
      "/cirY2N2eu2k/cirY2N2eu2k_8.wav\n",
      "/cirY2N2eu2k/cirY2N2eu2k_9.wav\n",
      "/cirY2N2eu2k/cirY2N2eu2k_10.wav\n",
      "/cirY2N2eu2k/cirY2N2eu2k_11.wav\n",
      "/cirY2N2eu2k/cirY2N2eu2k_12.wav\n",
      "/cirY2N2eu2k/cirY2N2eu2k_13.wav\n",
      "/cirY2N2eu2k/cirY2N2eu2k_14.wav\n",
      "/cirY2N2eu2k/cirY2N2eu2k_15.wav\n",
      "/cirY2N2eu2k/cirY2N2eu2k_16.wav\n",
      "/cirY2N2eu2k/cirY2N2eu2k_17.wav\n",
      "/cirY2N2eu2k/cirY2N2eu2k_18.wav\n",
      "/cirY2N2eu2k/cirY2N2eu2k_19.wav\n",
      "/cirY2N2eu2k/cirY2N2eu2k_20.wav\n",
      "/cirY2N2eu2k/cirY2N2eu2k_21.wav\n",
      "/cirY2N2eu2k/cirY2N2eu2k_22.wav\n"
     ]
    },
    {
     "name": "stderr",
     "output_type": "stream",
     "text": [
      "/tmp/ipykernel_500908/3554502737.py:4: UserWarning: PySoundFile failed. Trying audioread instead.\n",
      "  y, sr = lb.load(file_path)\n",
      "/usr/local/lib/python3.11/dist-packages/librosa/core/audio.py:183: FutureWarning: librosa.core.audio.__audioread_load\n",
      "\tDeprecated as of librosa version 0.10.0.\n",
      "\tIt will be removed in librosa version 1.0.\n",
      "  y, sr_native = __audioread_load(path, offset, duration, dtype)\n"
     ]
    },
    {
     "name": "stdout",
     "output_type": "stream",
     "text": [
      "/root/data/announcement_tracker/youtube/n0kC1NMknmU.m4a\n",
      "/n0kC1NMknmU/n0kC1NMknmU_0.wav\n",
      "/n0kC1NMknmU/n0kC1NMknmU_1.wav\n",
      "/n0kC1NMknmU/n0kC1NMknmU_2.wav\n",
      "/n0kC1NMknmU/n0kC1NMknmU_3.wav\n",
      "/n0kC1NMknmU/n0kC1NMknmU_4.wav\n"
     ]
    },
    {
     "name": "stderr",
     "output_type": "stream",
     "text": [
      "/tmp/ipykernel_500908/3554502737.py:4: UserWarning: PySoundFile failed. Trying audioread instead.\n",
      "  y, sr = lb.load(file_path)\n",
      "/usr/local/lib/python3.11/dist-packages/librosa/core/audio.py:183: FutureWarning: librosa.core.audio.__audioread_load\n",
      "\tDeprecated as of librosa version 0.10.0.\n",
      "\tIt will be removed in librosa version 1.0.\n",
      "  y, sr_native = __audioread_load(path, offset, duration, dtype)\n"
     ]
    },
    {
     "name": "stdout",
     "output_type": "stream",
     "text": [
      "/root/data/announcement_tracker/youtube/T2EkcXRA1pM.m4a\n",
      "/T2EkcXRA1pM/T2EkcXRA1pM_0.wav\n",
      "/T2EkcXRA1pM/T2EkcXRA1pM_1.wav\n",
      "/T2EkcXRA1pM/T2EkcXRA1pM_2.wav\n",
      "/T2EkcXRA1pM/T2EkcXRA1pM_3.wav\n"
     ]
    },
    {
     "name": "stderr",
     "output_type": "stream",
     "text": [
      "/tmp/ipykernel_500908/3554502737.py:4: UserWarning: PySoundFile failed. Trying audioread instead.\n",
      "  y, sr = lb.load(file_path)\n",
      "/usr/local/lib/python3.11/dist-packages/librosa/core/audio.py:183: FutureWarning: librosa.core.audio.__audioread_load\n",
      "\tDeprecated as of librosa version 0.10.0.\n",
      "\tIt will be removed in librosa version 1.0.\n",
      "  y, sr_native = __audioread_load(path, offset, duration, dtype)\n"
     ]
    },
    {
     "name": "stdout",
     "output_type": "stream",
     "text": [
      "/root/data/announcement_tracker/youtube/AtMzngYdx4s.m4a\n",
      "/AtMzngYdx4s/AtMzngYdx4s_0.wav\n"
     ]
    },
    {
     "name": "stderr",
     "output_type": "stream",
     "text": [
      "/tmp/ipykernel_500908/3554502737.py:4: UserWarning: PySoundFile failed. Trying audioread instead.\n",
      "  y, sr = lb.load(file_path)\n",
      "/usr/local/lib/python3.11/dist-packages/librosa/core/audio.py:183: FutureWarning: librosa.core.audio.__audioread_load\n",
      "\tDeprecated as of librosa version 0.10.0.\n",
      "\tIt will be removed in librosa version 1.0.\n",
      "  y, sr_native = __audioread_load(path, offset, duration, dtype)\n"
     ]
    },
    {
     "name": "stdout",
     "output_type": "stream",
     "text": [
      "/root/data/announcement_tracker/youtube/81bcCbfH-xg.webm\n",
      "/81bcCbfH-xg/81bcCbfH-xg_0.wav\n",
      "/root/data/announcement_tracker/youtube/NvE_nerq6U8.m4a\n",
      "/NvE_nerq6U8/NvE_nerq6U8_0.wav\n"
     ]
    },
    {
     "name": "stderr",
     "output_type": "stream",
     "text": [
      "/tmp/ipykernel_500908/3554502737.py:4: UserWarning: PySoundFile failed. Trying audioread instead.\n",
      "  y, sr = lb.load(file_path)\n",
      "/usr/local/lib/python3.11/dist-packages/librosa/core/audio.py:183: FutureWarning: librosa.core.audio.__audioread_load\n",
      "\tDeprecated as of librosa version 0.10.0.\n",
      "\tIt will be removed in librosa version 1.0.\n",
      "  y, sr_native = __audioread_load(path, offset, duration, dtype)\n",
      "/tmp/ipykernel_500908/3554502737.py:4: UserWarning: PySoundFile failed. Trying audioread instead.\n",
      "  y, sr = lb.load(file_path)\n",
      "/usr/local/lib/python3.11/dist-packages/librosa/core/audio.py:183: FutureWarning: librosa.core.audio.__audioread_load\n",
      "\tDeprecated as of librosa version 0.10.0.\n",
      "\tIt will be removed in librosa version 1.0.\n",
      "  y, sr_native = __audioread_load(path, offset, duration, dtype)\n"
     ]
    },
    {
     "name": "stdout",
     "output_type": "stream",
     "text": [
      "/root/data/announcement_tracker/youtube/XmjkBxfsKbk.m4a\n",
      "/XmjkBxfsKbk/XmjkBxfsKbk_0.wav\n"
     ]
    },
    {
     "name": "stderr",
     "output_type": "stream",
     "text": [
      "/tmp/ipykernel_500908/3554502737.py:4: UserWarning: PySoundFile failed. Trying audioread instead.\n",
      "  y, sr = lb.load(file_path)\n",
      "/usr/local/lib/python3.11/dist-packages/librosa/core/audio.py:183: FutureWarning: librosa.core.audio.__audioread_load\n",
      "\tDeprecated as of librosa version 0.10.0.\n",
      "\tIt will be removed in librosa version 1.0.\n",
      "  y, sr_native = __audioread_load(path, offset, duration, dtype)\n"
     ]
    },
    {
     "name": "stdout",
     "output_type": "stream",
     "text": [
      "/root/data/announcement_tracker/youtube/jBcyGEEZqTA.m4a\n",
      "/jBcyGEEZqTA/jBcyGEEZqTA_0.wav\n",
      "/jBcyGEEZqTA/jBcyGEEZqTA_1.wav\n",
      "/jBcyGEEZqTA/jBcyGEEZqTA_2.wav\n",
      "/jBcyGEEZqTA/jBcyGEEZqTA_3.wav\n",
      "/jBcyGEEZqTA/jBcyGEEZqTA_4.wav\n",
      "/jBcyGEEZqTA/jBcyGEEZqTA_5.wav\n",
      "/jBcyGEEZqTA/jBcyGEEZqTA_6.wav\n",
      "/jBcyGEEZqTA/jBcyGEEZqTA_7.wav\n",
      "/jBcyGEEZqTA/jBcyGEEZqTA_8.wav\n",
      "/jBcyGEEZqTA/jBcyGEEZqTA_9.wav\n",
      "/jBcyGEEZqTA/jBcyGEEZqTA_10.wav\n",
      "/jBcyGEEZqTA/jBcyGEEZqTA_11.wav\n",
      "/jBcyGEEZqTA/jBcyGEEZqTA_12.wav\n",
      "/jBcyGEEZqTA/jBcyGEEZqTA_13.wav\n",
      "/jBcyGEEZqTA/jBcyGEEZqTA_14.wav\n",
      "/jBcyGEEZqTA/jBcyGEEZqTA_15.wav\n",
      "/jBcyGEEZqTA/jBcyGEEZqTA_16.wav\n",
      "/jBcyGEEZqTA/jBcyGEEZqTA_17.wav\n",
      "/jBcyGEEZqTA/jBcyGEEZqTA_18.wav\n",
      "/jBcyGEEZqTA/jBcyGEEZqTA_19.wav\n",
      "/jBcyGEEZqTA/jBcyGEEZqTA_20.wav\n",
      "/jBcyGEEZqTA/jBcyGEEZqTA_21.wav\n",
      "/jBcyGEEZqTA/jBcyGEEZqTA_22.wav\n",
      "/jBcyGEEZqTA/jBcyGEEZqTA_23.wav\n",
      "/jBcyGEEZqTA/jBcyGEEZqTA_24.wav\n",
      "/jBcyGEEZqTA/jBcyGEEZqTA_25.wav\n",
      "/jBcyGEEZqTA/jBcyGEEZqTA_26.wav\n",
      "/jBcyGEEZqTA/jBcyGEEZqTA_27.wav\n",
      "/jBcyGEEZqTA/jBcyGEEZqTA_28.wav\n",
      "/jBcyGEEZqTA/jBcyGEEZqTA_29.wav\n",
      "/jBcyGEEZqTA/jBcyGEEZqTA_30.wav\n",
      "/jBcyGEEZqTA/jBcyGEEZqTA_31.wav\n",
      "/jBcyGEEZqTA/jBcyGEEZqTA_32.wav\n",
      "/jBcyGEEZqTA/jBcyGEEZqTA_33.wav\n",
      "/jBcyGEEZqTA/jBcyGEEZqTA_34.wav\n",
      "/jBcyGEEZqTA/jBcyGEEZqTA_35.wav\n",
      "/jBcyGEEZqTA/jBcyGEEZqTA_36.wav\n",
      "/jBcyGEEZqTA/jBcyGEEZqTA_37.wav\n",
      "/jBcyGEEZqTA/jBcyGEEZqTA_38.wav\n",
      "/jBcyGEEZqTA/jBcyGEEZqTA_39.wav\n",
      "/jBcyGEEZqTA/jBcyGEEZqTA_40.wav\n",
      "/jBcyGEEZqTA/jBcyGEEZqTA_41.wav\n",
      "/jBcyGEEZqTA/jBcyGEEZqTA_42.wav\n",
      "/jBcyGEEZqTA/jBcyGEEZqTA_43.wav\n",
      "/jBcyGEEZqTA/jBcyGEEZqTA_44.wav\n",
      "/jBcyGEEZqTA/jBcyGEEZqTA_45.wav\n",
      "/jBcyGEEZqTA/jBcyGEEZqTA_46.wav\n",
      "/jBcyGEEZqTA/jBcyGEEZqTA_47.wav\n",
      "/jBcyGEEZqTA/jBcyGEEZqTA_48.wav\n",
      "/jBcyGEEZqTA/jBcyGEEZqTA_49.wav\n",
      "/jBcyGEEZqTA/jBcyGEEZqTA_50.wav\n",
      "/jBcyGEEZqTA/jBcyGEEZqTA_51.wav\n",
      "/jBcyGEEZqTA/jBcyGEEZqTA_52.wav\n",
      "/jBcyGEEZqTA/jBcyGEEZqTA_53.wav\n",
      "/jBcyGEEZqTA/jBcyGEEZqTA_54.wav\n",
      "/jBcyGEEZqTA/jBcyGEEZqTA_55.wav\n",
      "/jBcyGEEZqTA/jBcyGEEZqTA_56.wav\n",
      "/jBcyGEEZqTA/jBcyGEEZqTA_57.wav\n",
      "/jBcyGEEZqTA/jBcyGEEZqTA_58.wav\n",
      "/jBcyGEEZqTA/jBcyGEEZqTA_59.wav\n",
      "/jBcyGEEZqTA/jBcyGEEZqTA_60.wav\n",
      "/jBcyGEEZqTA/jBcyGEEZqTA_61.wav\n",
      "/jBcyGEEZqTA/jBcyGEEZqTA_62.wav\n",
      "/jBcyGEEZqTA/jBcyGEEZqTA_63.wav\n",
      "/jBcyGEEZqTA/jBcyGEEZqTA_64.wav\n",
      "/jBcyGEEZqTA/jBcyGEEZqTA_65.wav\n",
      "/jBcyGEEZqTA/jBcyGEEZqTA_66.wav\n",
      "/jBcyGEEZqTA/jBcyGEEZqTA_67.wav\n",
      "/jBcyGEEZqTA/jBcyGEEZqTA_68.wav\n",
      "/jBcyGEEZqTA/jBcyGEEZqTA_69.wav\n",
      "/jBcyGEEZqTA/jBcyGEEZqTA_70.wav\n",
      "/jBcyGEEZqTA/jBcyGEEZqTA_71.wav\n",
      "/jBcyGEEZqTA/jBcyGEEZqTA_72.wav\n",
      "/jBcyGEEZqTA/jBcyGEEZqTA_73.wav\n",
      "/jBcyGEEZqTA/jBcyGEEZqTA_74.wav\n",
      "/jBcyGEEZqTA/jBcyGEEZqTA_75.wav\n",
      "/jBcyGEEZqTA/jBcyGEEZqTA_76.wav\n",
      "/jBcyGEEZqTA/jBcyGEEZqTA_77.wav\n",
      "/jBcyGEEZqTA/jBcyGEEZqTA_78.wav\n",
      "/jBcyGEEZqTA/jBcyGEEZqTA_79.wav\n",
      "/jBcyGEEZqTA/jBcyGEEZqTA_80.wav\n",
      "/jBcyGEEZqTA/jBcyGEEZqTA_81.wav\n",
      "/jBcyGEEZqTA/jBcyGEEZqTA_82.wav\n",
      "/jBcyGEEZqTA/jBcyGEEZqTA_83.wav\n",
      "/jBcyGEEZqTA/jBcyGEEZqTA_84.wav\n",
      "/jBcyGEEZqTA/jBcyGEEZqTA_85.wav\n",
      "/jBcyGEEZqTA/jBcyGEEZqTA_86.wav\n",
      "/jBcyGEEZqTA/jBcyGEEZqTA_87.wav\n"
     ]
    },
    {
     "name": "stderr",
     "output_type": "stream",
     "text": [
      "/tmp/ipykernel_500908/3554502737.py:4: UserWarning: PySoundFile failed. Trying audioread instead.\n",
      "  y, sr = lb.load(file_path)\n",
      "/usr/local/lib/python3.11/dist-packages/librosa/core/audio.py:183: FutureWarning: librosa.core.audio.__audioread_load\n",
      "\tDeprecated as of librosa version 0.10.0.\n",
      "\tIt will be removed in librosa version 1.0.\n",
      "  y, sr_native = __audioread_load(path, offset, duration, dtype)\n"
     ]
    },
    {
     "name": "stdout",
     "output_type": "stream",
     "text": [
      "/root/data/announcement_tracker/youtube/dZHnoI-qDyA.m4a\n",
      "/dZHnoI-qDyA/dZHnoI-qDyA_0.wav\n",
      "/dZHnoI-qDyA/dZHnoI-qDyA_1.wav\n",
      "/dZHnoI-qDyA/dZHnoI-qDyA_2.wav\n",
      "/dZHnoI-qDyA/dZHnoI-qDyA_3.wav\n",
      "/dZHnoI-qDyA/dZHnoI-qDyA_4.wav\n",
      "/dZHnoI-qDyA/dZHnoI-qDyA_5.wav\n",
      "/dZHnoI-qDyA/dZHnoI-qDyA_6.wav\n",
      "/dZHnoI-qDyA/dZHnoI-qDyA_7.wav\n",
      "/dZHnoI-qDyA/dZHnoI-qDyA_8.wav\n",
      "/dZHnoI-qDyA/dZHnoI-qDyA_9.wav\n",
      "/dZHnoI-qDyA/dZHnoI-qDyA_10.wav\n"
     ]
    },
    {
     "name": "stderr",
     "output_type": "stream",
     "text": [
      "/tmp/ipykernel_500908/3554502737.py:4: UserWarning: PySoundFile failed. Trying audioread instead.\n",
      "  y, sr = lb.load(file_path)\n",
      "/usr/local/lib/python3.11/dist-packages/librosa/core/audio.py:183: FutureWarning: librosa.core.audio.__audioread_load\n",
      "\tDeprecated as of librosa version 0.10.0.\n",
      "\tIt will be removed in librosa version 1.0.\n",
      "  y, sr_native = __audioread_load(path, offset, duration, dtype)\n"
     ]
    },
    {
     "name": "stdout",
     "output_type": "stream",
     "text": [
      "/root/data/announcement_tracker/youtube/vQs9A7XjyOI.m4a\n",
      "/vQs9A7XjyOI/vQs9A7XjyOI_0.wav\n",
      "/vQs9A7XjyOI/vQs9A7XjyOI_1.wav\n",
      "/vQs9A7XjyOI/vQs9A7XjyOI_2.wav\n",
      "/vQs9A7XjyOI/vQs9A7XjyOI_3.wav\n"
     ]
    },
    {
     "name": "stderr",
     "output_type": "stream",
     "text": [
      "/tmp/ipykernel_500908/3554502737.py:4: UserWarning: PySoundFile failed. Trying audioread instead.\n",
      "  y, sr = lb.load(file_path)\n",
      "/usr/local/lib/python3.11/dist-packages/librosa/core/audio.py:183: FutureWarning: librosa.core.audio.__audioread_load\n",
      "\tDeprecated as of librosa version 0.10.0.\n",
      "\tIt will be removed in librosa version 1.0.\n",
      "  y, sr_native = __audioread_load(path, offset, duration, dtype)\n"
     ]
    },
    {
     "name": "stdout",
     "output_type": "stream",
     "text": [
      "/root/data/announcement_tracker/youtube/iTw8eg-11uA.m4a\n",
      "/iTw8eg-11uA/iTw8eg-11uA_0.wav\n",
      "/iTw8eg-11uA/iTw8eg-11uA_1.wav\n",
      "/iTw8eg-11uA/iTw8eg-11uA_2.wav\n",
      "/iTw8eg-11uA/iTw8eg-11uA_3.wav\n",
      "/iTw8eg-11uA/iTw8eg-11uA_4.wav\n",
      "/iTw8eg-11uA/iTw8eg-11uA_5.wav\n",
      "/iTw8eg-11uA/iTw8eg-11uA_6.wav\n",
      "/iTw8eg-11uA/iTw8eg-11uA_7.wav\n",
      "/iTw8eg-11uA/iTw8eg-11uA_8.wav\n",
      "/iTw8eg-11uA/iTw8eg-11uA_9.wav\n",
      "/iTw8eg-11uA/iTw8eg-11uA_10.wav\n",
      "/iTw8eg-11uA/iTw8eg-11uA_11.wav\n",
      "/iTw8eg-11uA/iTw8eg-11uA_12.wav\n",
      "/iTw8eg-11uA/iTw8eg-11uA_13.wav\n",
      "/iTw8eg-11uA/iTw8eg-11uA_14.wav\n",
      "/iTw8eg-11uA/iTw8eg-11uA_15.wav\n",
      "/iTw8eg-11uA/iTw8eg-11uA_16.wav\n",
      "/iTw8eg-11uA/iTw8eg-11uA_17.wav\n"
     ]
    },
    {
     "name": "stderr",
     "output_type": "stream",
     "text": [
      "/tmp/ipykernel_500908/3554502737.py:4: UserWarning: PySoundFile failed. Trying audioread instead.\n",
      "  y, sr = lb.load(file_path)\n",
      "/usr/local/lib/python3.11/dist-packages/librosa/core/audio.py:183: FutureWarning: librosa.core.audio.__audioread_load\n",
      "\tDeprecated as of librosa version 0.10.0.\n",
      "\tIt will be removed in librosa version 1.0.\n",
      "  y, sr_native = __audioread_load(path, offset, duration, dtype)\n"
     ]
    },
    {
     "name": "stdout",
     "output_type": "stream",
     "text": [
      "/root/data/announcement_tracker/youtube/45QdY0_arTY.m4a\n",
      "/45QdY0_arTY/45QdY0_arTY_0.wav\n",
      "/45QdY0_arTY/45QdY0_arTY_1.wav\n",
      "/45QdY0_arTY/45QdY0_arTY_2.wav\n",
      "/45QdY0_arTY/45QdY0_arTY_3.wav\n",
      "/45QdY0_arTY/45QdY0_arTY_4.wav\n",
      "/45QdY0_arTY/45QdY0_arTY_5.wav\n",
      "/45QdY0_arTY/45QdY0_arTY_6.wav\n",
      "/45QdY0_arTY/45QdY0_arTY_7.wav\n",
      "/45QdY0_arTY/45QdY0_arTY_8.wav\n",
      "/45QdY0_arTY/45QdY0_arTY_9.wav\n"
     ]
    },
    {
     "name": "stderr",
     "output_type": "stream",
     "text": [
      "/tmp/ipykernel_500908/3554502737.py:4: UserWarning: PySoundFile failed. Trying audioread instead.\n",
      "  y, sr = lb.load(file_path)\n",
      "/usr/local/lib/python3.11/dist-packages/librosa/core/audio.py:183: FutureWarning: librosa.core.audio.__audioread_load\n",
      "\tDeprecated as of librosa version 0.10.0.\n",
      "\tIt will be removed in librosa version 1.0.\n",
      "  y, sr_native = __audioread_load(path, offset, duration, dtype)\n"
     ]
    },
    {
     "name": "stdout",
     "output_type": "stream",
     "text": [
      "/root/data/announcement_tracker/youtube/xo7uSbfrRP4.webm\n",
      "/xo7uSbfrRP4/xo7uSbfrRP4_0.wav\n",
      "/xo7uSbfrRP4/xo7uSbfrRP4_1.wav\n",
      "/xo7uSbfrRP4/xo7uSbfrRP4_2.wav\n"
     ]
    },
    {
     "name": "stderr",
     "output_type": "stream",
     "text": [
      "/tmp/ipykernel_500908/3554502737.py:4: UserWarning: PySoundFile failed. Trying audioread instead.\n",
      "  y, sr = lb.load(file_path)\n",
      "/usr/local/lib/python3.11/dist-packages/librosa/core/audio.py:183: FutureWarning: librosa.core.audio.__audioread_load\n",
      "\tDeprecated as of librosa version 0.10.0.\n",
      "\tIt will be removed in librosa version 1.0.\n",
      "  y, sr_native = __audioread_load(path, offset, duration, dtype)\n"
     ]
    },
    {
     "name": "stdout",
     "output_type": "stream",
     "text": [
      "/root/data/announcement_tracker/youtube/_Uvp2wDBqRU.m4a\n",
      "/_Uvp2wDBqRU/_Uvp2wDBqRU_0.wav\n",
      "/_Uvp2wDBqRU/_Uvp2wDBqRU_1.wav\n",
      "/_Uvp2wDBqRU/_Uvp2wDBqRU_2.wav\n",
      "/_Uvp2wDBqRU/_Uvp2wDBqRU_3.wav\n",
      "/_Uvp2wDBqRU/_Uvp2wDBqRU_4.wav\n",
      "/_Uvp2wDBqRU/_Uvp2wDBqRU_5.wav\n",
      "/_Uvp2wDBqRU/_Uvp2wDBqRU_6.wav\n",
      "/_Uvp2wDBqRU/_Uvp2wDBqRU_7.wav\n",
      "/_Uvp2wDBqRU/_Uvp2wDBqRU_8.wav\n",
      "/_Uvp2wDBqRU/_Uvp2wDBqRU_9.wav\n",
      "/_Uvp2wDBqRU/_Uvp2wDBqRU_10.wav\n",
      "/_Uvp2wDBqRU/_Uvp2wDBqRU_11.wav\n",
      "/_Uvp2wDBqRU/_Uvp2wDBqRU_12.wav\n",
      "/_Uvp2wDBqRU/_Uvp2wDBqRU_13.wav\n",
      "/_Uvp2wDBqRU/_Uvp2wDBqRU_14.wav\n",
      "/_Uvp2wDBqRU/_Uvp2wDBqRU_15.wav\n",
      "/_Uvp2wDBqRU/_Uvp2wDBqRU_16.wav\n",
      "/_Uvp2wDBqRU/_Uvp2wDBqRU_17.wav\n",
      "/_Uvp2wDBqRU/_Uvp2wDBqRU_18.wav\n",
      "/_Uvp2wDBqRU/_Uvp2wDBqRU_19.wav\n",
      "/_Uvp2wDBqRU/_Uvp2wDBqRU_20.wav\n",
      "/_Uvp2wDBqRU/_Uvp2wDBqRU_21.wav\n",
      "/_Uvp2wDBqRU/_Uvp2wDBqRU_22.wav\n",
      "/_Uvp2wDBqRU/_Uvp2wDBqRU_23.wav\n",
      "/_Uvp2wDBqRU/_Uvp2wDBqRU_24.wav\n",
      "/_Uvp2wDBqRU/_Uvp2wDBqRU_25.wav\n",
      "/_Uvp2wDBqRU/_Uvp2wDBqRU_26.wav\n",
      "/_Uvp2wDBqRU/_Uvp2wDBqRU_27.wav\n",
      "/_Uvp2wDBqRU/_Uvp2wDBqRU_28.wav\n",
      "/_Uvp2wDBqRU/_Uvp2wDBqRU_29.wav\n",
      "/_Uvp2wDBqRU/_Uvp2wDBqRU_30.wav\n",
      "/_Uvp2wDBqRU/_Uvp2wDBqRU_31.wav\n",
      "/_Uvp2wDBqRU/_Uvp2wDBqRU_32.wav\n",
      "/_Uvp2wDBqRU/_Uvp2wDBqRU_33.wav\n",
      "/_Uvp2wDBqRU/_Uvp2wDBqRU_34.wav\n",
      "/_Uvp2wDBqRU/_Uvp2wDBqRU_35.wav\n",
      "/_Uvp2wDBqRU/_Uvp2wDBqRU_36.wav\n",
      "/_Uvp2wDBqRU/_Uvp2wDBqRU_37.wav\n",
      "/_Uvp2wDBqRU/_Uvp2wDBqRU_38.wav\n",
      "/_Uvp2wDBqRU/_Uvp2wDBqRU_39.wav\n",
      "/_Uvp2wDBqRU/_Uvp2wDBqRU_40.wav\n",
      "/_Uvp2wDBqRU/_Uvp2wDBqRU_41.wav\n",
      "/_Uvp2wDBqRU/_Uvp2wDBqRU_42.wav\n",
      "/_Uvp2wDBqRU/_Uvp2wDBqRU_43.wav\n",
      "/_Uvp2wDBqRU/_Uvp2wDBqRU_44.wav\n",
      "/_Uvp2wDBqRU/_Uvp2wDBqRU_45.wav\n",
      "/_Uvp2wDBqRU/_Uvp2wDBqRU_46.wav\n",
      "/_Uvp2wDBqRU/_Uvp2wDBqRU_47.wav\n",
      "/_Uvp2wDBqRU/_Uvp2wDBqRU_48.wav\n"
     ]
    },
    {
     "name": "stderr",
     "output_type": "stream",
     "text": [
      "/tmp/ipykernel_500908/3554502737.py:4: UserWarning: PySoundFile failed. Trying audioread instead.\n",
      "  y, sr = lb.load(file_path)\n",
      "/usr/local/lib/python3.11/dist-packages/librosa/core/audio.py:183: FutureWarning: librosa.core.audio.__audioread_load\n",
      "\tDeprecated as of librosa version 0.10.0.\n",
      "\tIt will be removed in librosa version 1.0.\n",
      "  y, sr_native = __audioread_load(path, offset, duration, dtype)\n"
     ]
    },
    {
     "name": "stdout",
     "output_type": "stream",
     "text": [
      "/root/data/announcement_tracker/youtube/7TomfB5wpf8.m4a\n",
      "/7TomfB5wpf8/7TomfB5wpf8_0.wav\n",
      "/7TomfB5wpf8/7TomfB5wpf8_1.wav\n"
     ]
    },
    {
     "name": "stderr",
     "output_type": "stream",
     "text": [
      "/tmp/ipykernel_500908/3554502737.py:4: UserWarning: PySoundFile failed. Trying audioread instead.\n",
      "  y, sr = lb.load(file_path)\n",
      "/usr/local/lib/python3.11/dist-packages/librosa/core/audio.py:183: FutureWarning: librosa.core.audio.__audioread_load\n",
      "\tDeprecated as of librosa version 0.10.0.\n",
      "\tIt will be removed in librosa version 1.0.\n",
      "  y, sr_native = __audioread_load(path, offset, duration, dtype)\n"
     ]
    },
    {
     "name": "stdout",
     "output_type": "stream",
     "text": [
      "/root/data/announcement_tracker/youtube/Q0a420QAm7E.m4a\n",
      "/Q0a420QAm7E/Q0a420QAm7E_0.wav\n",
      "/Q0a420QAm7E/Q0a420QAm7E_1.wav\n",
      "/Q0a420QAm7E/Q0a420QAm7E_2.wav\n",
      "/Q0a420QAm7E/Q0a420QAm7E_3.wav\n",
      "/Q0a420QAm7E/Q0a420QAm7E_4.wav\n",
      "/Q0a420QAm7E/Q0a420QAm7E_5.wav\n",
      "/Q0a420QAm7E/Q0a420QAm7E_6.wav\n",
      "/Q0a420QAm7E/Q0a420QAm7E_7.wav\n",
      "/Q0a420QAm7E/Q0a420QAm7E_8.wav\n",
      "/Q0a420QAm7E/Q0a420QAm7E_9.wav\n",
      "/Q0a420QAm7E/Q0a420QAm7E_10.wav\n",
      "/Q0a420QAm7E/Q0a420QAm7E_11.wav\n",
      "/Q0a420QAm7E/Q0a420QAm7E_12.wav\n",
      "/Q0a420QAm7E/Q0a420QAm7E_13.wav\n",
      "/Q0a420QAm7E/Q0a420QAm7E_14.wav\n",
      "/Q0a420QAm7E/Q0a420QAm7E_15.wav\n",
      "/Q0a420QAm7E/Q0a420QAm7E_16.wav\n"
     ]
    },
    {
     "name": "stderr",
     "output_type": "stream",
     "text": [
      "/tmp/ipykernel_500908/3554502737.py:4: UserWarning: PySoundFile failed. Trying audioread instead.\n",
      "  y, sr = lb.load(file_path)\n",
      "/usr/local/lib/python3.11/dist-packages/librosa/core/audio.py:183: FutureWarning: librosa.core.audio.__audioread_load\n",
      "\tDeprecated as of librosa version 0.10.0.\n",
      "\tIt will be removed in librosa version 1.0.\n",
      "  y, sr_native = __audioread_load(path, offset, duration, dtype)\n"
     ]
    },
    {
     "name": "stdout",
     "output_type": "stream",
     "text": [
      "/root/data/announcement_tracker/youtube/EIvr5IGr9Fk.m4a\n",
      "/EIvr5IGr9Fk/EIvr5IGr9Fk_0.wav\n",
      "/EIvr5IGr9Fk/EIvr5IGr9Fk_1.wav\n",
      "/EIvr5IGr9Fk/EIvr5IGr9Fk_2.wav\n",
      "/EIvr5IGr9Fk/EIvr5IGr9Fk_3.wav\n",
      "/EIvr5IGr9Fk/EIvr5IGr9Fk_4.wav\n",
      "/EIvr5IGr9Fk/EIvr5IGr9Fk_5.wav\n",
      "/EIvr5IGr9Fk/EIvr5IGr9Fk_6.wav\n",
      "/EIvr5IGr9Fk/EIvr5IGr9Fk_7.wav\n",
      "/EIvr5IGr9Fk/EIvr5IGr9Fk_8.wav\n",
      "/EIvr5IGr9Fk/EIvr5IGr9Fk_9.wav\n",
      "/EIvr5IGr9Fk/EIvr5IGr9Fk_10.wav\n",
      "/EIvr5IGr9Fk/EIvr5IGr9Fk_11.wav\n",
      "/EIvr5IGr9Fk/EIvr5IGr9Fk_12.wav\n",
      "/EIvr5IGr9Fk/EIvr5IGr9Fk_13.wav\n",
      "/EIvr5IGr9Fk/EIvr5IGr9Fk_14.wav\n",
      "/EIvr5IGr9Fk/EIvr5IGr9Fk_15.wav\n",
      "/EIvr5IGr9Fk/EIvr5IGr9Fk_16.wav\n",
      "/EIvr5IGr9Fk/EIvr5IGr9Fk_17.wav\n",
      "/EIvr5IGr9Fk/EIvr5IGr9Fk_18.wav\n",
      "/EIvr5IGr9Fk/EIvr5IGr9Fk_19.wav\n",
      "/EIvr5IGr9Fk/EIvr5IGr9Fk_20.wav\n",
      "/EIvr5IGr9Fk/EIvr5IGr9Fk_21.wav\n",
      "/EIvr5IGr9Fk/EIvr5IGr9Fk_22.wav\n"
     ]
    },
    {
     "name": "stderr",
     "output_type": "stream",
     "text": [
      "/tmp/ipykernel_500908/3554502737.py:4: UserWarning: PySoundFile failed. Trying audioread instead.\n",
      "  y, sr = lb.load(file_path)\n",
      "/usr/local/lib/python3.11/dist-packages/librosa/core/audio.py:183: FutureWarning: librosa.core.audio.__audioread_load\n",
      "\tDeprecated as of librosa version 0.10.0.\n",
      "\tIt will be removed in librosa version 1.0.\n",
      "  y, sr_native = __audioread_load(path, offset, duration, dtype)\n"
     ]
    },
    {
     "ename": "",
     "evalue": "",
     "output_type": "error",
     "traceback": [
      "\u001b[1;31mCannot execute code, session has been disposed. Please try restarting the Kernel."
     ]
    },
    {
     "ename": "",
     "evalue": "",
     "output_type": "error",
     "traceback": [
      "\u001b[1;31mThe Kernel crashed while executing code in the the current cell or a previous cell. Please review the code in the cell(s) to identify a possible cause of the failure. Click <a href='https://aka.ms/vscodeJupyterKernelCrash'>here</a> for more info. View Jupyter <a href='command:jupyter.viewOutput'>log</a> for further details."
     ]
    }
   ],
   "source": [
    "for file_path in file_paths:\n",
    "    # file_path='/root/data/announcement_tracker/youtube/KvBCzbQLpsk.m4a'\n",
    "    y = load_audio_16k_mono(file_path)\n",
    "    print(file_path)\n",
    "    audio_slices=slice_audio(y)\n",
    "    for i, audio_slice in enumerate(audio_slices):\n",
    "        wav_object = io.BytesIO(bytes())\n",
    "        write(wav_object, target_sr, audio_slice)\n",
    "        dir_path_rel, file_name=os.path.split(file_path[len(dir)+1:])\n",
    "        file_name = os.path.splitext(file_name)[0]\n",
    "        file_path_rel=f'{dir_path_rel}/{file_name}/{file_name}_{i}.wav'\n",
    "        print(file_path_rel)"
   ]
  },
  {
   "cell_type": "code",
   "execution_count": null,
   "metadata": {},
   "outputs": [],
   "source": [
    "def load_audio_files(file_paths: list):\n",
    "    for file_path in  file_paths:\n",
    "        y, sr = lb.load(file_path)\n",
    "        y = audio_16k_mono(y=y, sr=sr)"
   ]
  },
  {
   "cell_type": "code",
   "execution_count": 7,
   "metadata": {},
   "outputs": [],
   "source": [
    "#TODO Outsource audio preprocessing to Python module\n",
    "\n",
    "#TODO convert audio to 16k Hz mono wav file\n",
    "#TODO slice audio in 3min sections"
   ]
  },
  {
   "cell_type": "code",
   "execution_count": 8,
   "metadata": {},
   "outputs": [],
   "source": [
    "# file_path = '/root/announcement_tracker/data/faded.wav'\n",
    "# data = open(file_path, \"rb\").read()"
   ]
  },
  {
   "cell_type": "code",
   "execution_count": 9,
   "metadata": {},
   "outputs": [],
   "source": [
    "# write files to S3 storage\n",
    "# s3.put_object(Body=data, Bucket=aws_bucket_name, Key='faded.wav')"
   ]
  }
 ],
 "metadata": {
  "kernelspec": {
   "display_name": "Python 3",
   "language": "python",
   "name": "python3"
  },
  "language_info": {
   "codemirror_mode": {
    "name": "ipython",
    "version": 3
   },
   "file_extension": ".py",
   "mimetype": "text/x-python",
   "name": "python",
   "nbconvert_exporter": "python",
   "pygments_lexer": "ipython3",
   "version": "3.11.2"
  },
  "orig_nbformat": 4
 },
 "nbformat": 4,
 "nbformat_minor": 2
}
