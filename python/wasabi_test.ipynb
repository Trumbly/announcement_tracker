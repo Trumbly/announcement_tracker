{
 "cells": [
  {
   "cell_type": "code",
   "execution_count": 1,
   "metadata": {},
   "outputs": [
    {
     "name": "stdout",
     "output_type": "stream",
     "text": [
      "Requirement already satisfied: python-dotenv in /usr/local/lib/python3.11/dist-packages (1.0.0)\n",
      "\u001b[33mWARNING: Running pip as the 'root' user can result in broken permissions and conflicting behaviour with the system package manager. It is recommended to use a virtual environment instead: https://pip.pypa.io/warnings/venv\u001b[0m\u001b[33m\n",
      "\u001b[0mRequirement already satisfied: boto3 in /usr/local/lib/python3.11/dist-packages (1.28.49)\n",
      "Requirement already satisfied: botocore<1.32.0,>=1.31.49 in /usr/local/lib/python3.11/dist-packages (from boto3) (1.31.49)\n",
      "Requirement already satisfied: jmespath<2.0.0,>=0.7.1 in /usr/local/lib/python3.11/dist-packages (from boto3) (1.0.1)\n",
      "Requirement already satisfied: s3transfer<0.7.0,>=0.6.0 in /usr/local/lib/python3.11/dist-packages (from boto3) (0.6.2)\n",
      "Requirement already satisfied: python-dateutil<3.0.0,>=2.1 in /usr/lib/python3/dist-packages (from botocore<1.32.0,>=1.31.49->boto3) (2.8.2)\n",
      "Requirement already satisfied: urllib3<1.27,>=1.25.4 in /usr/local/lib/python3.11/dist-packages (from botocore<1.32.0,>=1.31.49->boto3) (1.26.16)\n",
      "\u001b[33mWARNING: Running pip as the 'root' user can result in broken permissions and conflicting behaviour with the system package manager. It is recommended to use a virtual environment instead: https://pip.pypa.io/warnings/venv\u001b[0m\u001b[33m\n",
      "\u001b[0mRequirement already satisfied: pymediainfo in /usr/local/lib/python3.11/dist-packages (6.0.1)\n",
      "\u001b[33mWARNING: Running pip as the 'root' user can result in broken permissions and conflicting behaviour with the system package manager. It is recommended to use a virtual environment instead: https://pip.pypa.io/warnings/venv\u001b[0m\u001b[33m\n",
      "\u001b[0m"
     ]
    }
   ],
   "source": [
    "!pip install python-dotenv --break-system-packages\n",
    "!pip install boto3 --break-system-packages\n",
    "!pip install pymediainfo --break-system-packages"
   ]
  },
  {
   "cell_type": "code",
   "execution_count": 2,
   "metadata": {},
   "outputs": [],
   "source": [
    "import os\n",
    "from dotenv import load_dotenv\n",
    "import boto3\n",
    "from pymediainfo import MediaInfo"
   ]
  },
  {
   "cell_type": "code",
   "execution_count": 3,
   "metadata": {},
   "outputs": [],
   "source": [
    "aws_access_key_id = os.environ.get(\"aws_access_key_id\")\n",
    "aws_secret_access_key = os.environ.get(\"aws_secret_access_key\")\n",
    "aws_bucket_name = 'youtubedl'"
   ]
  },
  {
   "cell_type": "markdown",
   "metadata": {},
   "source": [
    "https://knowledgebase.wasabi.com/hc/en-us/articles/115002579891-How-do-I-use-AWS-SDK-for-Python-boto3-with-Wasabi\n",
    "\n",
    "The service URL (endpoint_url) depends on the storage region of the bucket:\n",
    "https://knowledgebase.wasabi.com/hc/en-us/articles/360015106031-What-are-the-service-URLs-for-Wasabi-s-different-regions-"
   ]
  },
  {
   "cell_type": "code",
   "execution_count": 4,
   "metadata": {},
   "outputs": [],
   "source": [
    "s3 = boto3.client('s3',\n",
    "                  endpoint_url='https://s3.eu-central-2.wasabisys.com',\n",
    "                  aws_access_key_id=aws_access_key_id,\n",
    "                  aws_secret_access_key=aws_secret_access_key)"
   ]
  },
  {
   "cell_type": "code",
   "execution_count": 31,
   "metadata": {},
   "outputs": [],
   "source": [
    "# return list of audio files for of given folder\n",
    "def get_audio_files(path: str, exclude_dirs: list = []):\n",
    "    filtered_files=[]\n",
    "    for root, dirs, files in os.walk(path, topdown=True):\n",
    "        if root not in exclude_dirs:\n",
    "            for file in files:\n",
    "                file_path = root + \"/\" + file\n",
    "                fileInfo = MediaInfo.parse(file_path)\n",
    "                for track in fileInfo.tracks:\n",
    "                    if track.track_type == \"Audio\":\n",
    "                        filtered_files.append(file_path)\n",
    "    return filtered_files"
   ]
  },
  {
   "cell_type": "code",
   "execution_count": 32,
   "metadata": {},
   "outputs": [],
   "source": [
    "dir = '/root/data/announcement_tracker/youtube'\n",
    "files = get_audio_files(path=dir)"
   ]
  },
  {
   "cell_type": "code",
   "execution_count": null,
   "metadata": {},
   "outputs": [],
   "source": [
    "#TODO Outsource audio preprocessing to Python module\n",
    "\n",
    "#TODO convert audio to 16k Hz mono wav file\n",
    "#TODO slice audio in 3min sections"
   ]
  },
  {
   "cell_type": "code",
   "execution_count": null,
   "metadata": {},
   "outputs": [],
   "source": [
    "# file_path = '/root/announcement_tracker/data/faded.wav'\n",
    "# data = open(file_path, \"rb\").read()"
   ]
  },
  {
   "cell_type": "code",
   "execution_count": null,
   "metadata": {},
   "outputs": [
    {
     "data": {
      "text/plain": [
       "{'ResponseMetadata': {'RequestId': '59090E4F79BBBE62:A',\n",
       "  'HostId': 'dqv+sRtBuXFSbw88+anCLKF9lHG7T8VnzHFn1HDrIDhHzoUHUXE4S4H22SEPgZHZQjOb6EQUzzJB',\n",
       "  'HTTPStatusCode': 200,\n",
       "  'HTTPHeaders': {'date': 'Sun, 17 Sep 2023 20:14:28 GMT',\n",
       "   'etag': '\"a998089ba88204a2480d6044a439ae7d\"',\n",
       "   'server': 'WasabiS3/7.16.1950-2023-08-24-c6d9c0fd32 (R204-U11)',\n",
       "   'x-amz-id-2': 'dqv+sRtBuXFSbw88+anCLKF9lHG7T8VnzHFn1HDrIDhHzoUHUXE4S4H22SEPgZHZQjOb6EQUzzJB',\n",
       "   'x-amz-request-id': '59090E4F79BBBE62:A',\n",
       "   'x-wasabi-cm-reference-id': '1694981667542 154.49.215.100 ConID:468741028/EngineConID:7314273/Core:6',\n",
       "   'content-length': '0'},\n",
       "  'RetryAttempts': 0},\n",
       " 'ETag': '\"a998089ba88204a2480d6044a439ae7d\"'}"
      ]
     },
     "execution_count": 6,
     "metadata": {},
     "output_type": "execute_result"
    }
   ],
   "source": [
    "# write files to S3 storage\n",
    "# s3.put_object(Body=data, Bucket=aws_bucket_name, Key='faded.wav')"
   ]
  }
 ],
 "metadata": {
  "kernelspec": {
   "display_name": "Python 3",
   "language": "python",
   "name": "python3"
  },
  "language_info": {
   "codemirror_mode": {
    "name": "ipython",
    "version": 3
   },
   "file_extension": ".py",
   "mimetype": "text/x-python",
   "name": "python",
   "nbconvert_exporter": "python",
   "pygments_lexer": "ipython3",
   "version": "3.11.2"
  },
  "orig_nbformat": 4
 },
 "nbformat": 4,
 "nbformat_minor": 2
}
